{
 "cells": [
  {
   "cell_type": "markdown",
   "id": "ab94792d",
   "metadata": {},
   "source": [
    "# Crimes on Women Analysis"
   ]
  },
  {
   "cell_type": "markdown",
   "id": "775fd87a",
   "metadata": {},
   "source": [
    "#### Problem Statement:\n",
    "The dataset on \"Crimes Against Women in India (2001-2021)\" aims to analyze the trends, types, and distribution of crimes against women across India over two decades. The goal is to understand how these crimes have evolved, identify regions with high crime rates, and explore factors contributing to these crimes, ultimately helping in policymaking and prevention strategies.\n",
    "\n",
    "### Solution Approach:\n",
    "\n",
    "Data Preprocessing: Clean and organize the data by handling missing values, standardizing formats, and preparing it for analysis.\n",
    "Trend Analysis: Use graphs to examine the yearly trends of crimes against women, identifying patterns or spikes in incidents.\n",
    "Crime Type Analysis: Break down crimes into categories like sexual assault, domestic violence, etc., to understand which are most prevalent.\n",
    "Geographical Analysis: Visualize crime distribution by state or region to identify crime hotspots.\n",
    "Correlation Analysis: Explore the relationship between crime rates and socio-economic factors like literacy, population density, and poverty."
   ]
  },
  {
   "cell_type": "code",
   "execution_count": null,
   "id": "e6eccde7",
   "metadata": {},
   "outputs": [],
   "source": [
    "import pandas as pd\n",
    "import numpy as np\n",
    "import matplotlib.pyplot as plt\n",
    "import seaborn as sns\n",
    "import plotly.express as px"
   ]
  },
  {
   "cell_type": "code",
   "execution_count": 4,
   "id": "c6e59418",
   "metadata": {},
   "outputs": [],
   "source": [
    "data=pd.read_csv(\"CrimesOnWomenData.csv\")"
   ]
  },
  {
   "cell_type": "markdown",
   "id": "1bd0c526",
   "metadata": {},
   "source": [
    "# Exploring the data and finding to reach the solution Approach"
   ]
  },
  {
   "cell_type": "code",
   "execution_count": 5,
   "id": "02e441ec",
   "metadata": {},
   "outputs": [
    {
     "data": {
      "text/html": [
       "<div>\n",
       "<style scoped>\n",
       "    .dataframe tbody tr th:only-of-type {\n",
       "        vertical-align: middle;\n",
       "    }\n",
       "\n",
       "    .dataframe tbody tr th {\n",
       "        vertical-align: top;\n",
       "    }\n",
       "\n",
       "    .dataframe thead th {\n",
       "        text-align: right;\n",
       "    }\n",
       "</style>\n",
       "<table border=\"1\" class=\"dataframe\">\n",
       "  <thead>\n",
       "    <tr style=\"text-align: right;\">\n",
       "      <th></th>\n",
       "      <th>Unnamed: 0</th>\n",
       "      <th>State</th>\n",
       "      <th>Year</th>\n",
       "      <th>Rape</th>\n",
       "      <th>K&amp;A</th>\n",
       "      <th>DD</th>\n",
       "      <th>AoW</th>\n",
       "      <th>AoM</th>\n",
       "      <th>DV</th>\n",
       "      <th>WT</th>\n",
       "    </tr>\n",
       "  </thead>\n",
       "  <tbody>\n",
       "    <tr>\n",
       "      <th>0</th>\n",
       "      <td>0</td>\n",
       "      <td>ANDHRA PRADESH</td>\n",
       "      <td>2001</td>\n",
       "      <td>871</td>\n",
       "      <td>765</td>\n",
       "      <td>420</td>\n",
       "      <td>3544</td>\n",
       "      <td>2271</td>\n",
       "      <td>5791</td>\n",
       "      <td>7</td>\n",
       "    </tr>\n",
       "    <tr>\n",
       "      <th>1</th>\n",
       "      <td>1</td>\n",
       "      <td>ARUNACHAL PRADESH</td>\n",
       "      <td>2001</td>\n",
       "      <td>33</td>\n",
       "      <td>55</td>\n",
       "      <td>0</td>\n",
       "      <td>78</td>\n",
       "      <td>3</td>\n",
       "      <td>11</td>\n",
       "      <td>0</td>\n",
       "    </tr>\n",
       "    <tr>\n",
       "      <th>2</th>\n",
       "      <td>2</td>\n",
       "      <td>ASSAM</td>\n",
       "      <td>2001</td>\n",
       "      <td>817</td>\n",
       "      <td>1070</td>\n",
       "      <td>59</td>\n",
       "      <td>850</td>\n",
       "      <td>4</td>\n",
       "      <td>1248</td>\n",
       "      <td>0</td>\n",
       "    </tr>\n",
       "    <tr>\n",
       "      <th>3</th>\n",
       "      <td>3</td>\n",
       "      <td>BIHAR</td>\n",
       "      <td>2001</td>\n",
       "      <td>888</td>\n",
       "      <td>518</td>\n",
       "      <td>859</td>\n",
       "      <td>562</td>\n",
       "      <td>21</td>\n",
       "      <td>1558</td>\n",
       "      <td>83</td>\n",
       "    </tr>\n",
       "    <tr>\n",
       "      <th>4</th>\n",
       "      <td>4</td>\n",
       "      <td>CHHATTISGARH</td>\n",
       "      <td>2001</td>\n",
       "      <td>959</td>\n",
       "      <td>171</td>\n",
       "      <td>70</td>\n",
       "      <td>1763</td>\n",
       "      <td>161</td>\n",
       "      <td>840</td>\n",
       "      <td>0</td>\n",
       "    </tr>\n",
       "    <tr>\n",
       "      <th>...</th>\n",
       "      <td>...</td>\n",
       "      <td>...</td>\n",
       "      <td>...</td>\n",
       "      <td>...</td>\n",
       "      <td>...</td>\n",
       "      <td>...</td>\n",
       "      <td>...</td>\n",
       "      <td>...</td>\n",
       "      <td>...</td>\n",
       "      <td>...</td>\n",
       "    </tr>\n",
       "    <tr>\n",
       "      <th>731</th>\n",
       "      <td>731</td>\n",
       "      <td>D&amp;N Haveli</td>\n",
       "      <td>2021</td>\n",
       "      <td>1250</td>\n",
       "      <td>4083</td>\n",
       "      <td>141</td>\n",
       "      <td>2068</td>\n",
       "      <td>417</td>\n",
       "      <td>4731</td>\n",
       "      <td>4</td>\n",
       "    </tr>\n",
       "    <tr>\n",
       "      <th>732</th>\n",
       "      <td>732</td>\n",
       "      <td>Daman &amp; Diu</td>\n",
       "      <td>2021</td>\n",
       "      <td>315</td>\n",
       "      <td>904</td>\n",
       "      <td>16</td>\n",
       "      <td>1851</td>\n",
       "      <td>10</td>\n",
       "      <td>501</td>\n",
       "      <td>1</td>\n",
       "    </tr>\n",
       "    <tr>\n",
       "      <th>733</th>\n",
       "      <td>733</td>\n",
       "      <td>Delhi UT</td>\n",
       "      <td>2021</td>\n",
       "      <td>2</td>\n",
       "      <td>1</td>\n",
       "      <td>0</td>\n",
       "      <td>5</td>\n",
       "      <td>1</td>\n",
       "      <td>9</td>\n",
       "      <td>0</td>\n",
       "    </tr>\n",
       "    <tr>\n",
       "      <th>734</th>\n",
       "      <td>734</td>\n",
       "      <td>Lakshadweep</td>\n",
       "      <td>2021</td>\n",
       "      <td>0</td>\n",
       "      <td>0</td>\n",
       "      <td>0</td>\n",
       "      <td>1</td>\n",
       "      <td>1</td>\n",
       "      <td>3</td>\n",
       "      <td>0</td>\n",
       "    </tr>\n",
       "    <tr>\n",
       "      <th>735</th>\n",
       "      <td>735</td>\n",
       "      <td>Puducherry</td>\n",
       "      <td>2021</td>\n",
       "      <td>2</td>\n",
       "      <td>0</td>\n",
       "      <td>2</td>\n",
       "      <td>31</td>\n",
       "      <td>3</td>\n",
       "      <td>12</td>\n",
       "      <td>0</td>\n",
       "    </tr>\n",
       "  </tbody>\n",
       "</table>\n",
       "<p>736 rows × 10 columns</p>\n",
       "</div>"
      ],
      "text/plain": [
       "     Unnamed: 0              State  Year  Rape   K&A   DD   AoW   AoM    DV  \\\n",
       "0             0     ANDHRA PRADESH  2001   871   765  420  3544  2271  5791   \n",
       "1             1  ARUNACHAL PRADESH  2001    33    55    0    78     3    11   \n",
       "2             2              ASSAM  2001   817  1070   59   850     4  1248   \n",
       "3             3              BIHAR  2001   888   518  859   562    21  1558   \n",
       "4             4       CHHATTISGARH  2001   959   171   70  1763   161   840   \n",
       "..          ...                ...   ...   ...   ...  ...   ...   ...   ...   \n",
       "731         731         D&N Haveli  2021  1250  4083  141  2068   417  4731   \n",
       "732         732        Daman & Diu  2021   315   904   16  1851    10   501   \n",
       "733         733           Delhi UT  2021     2     1    0     5     1     9   \n",
       "734         734        Lakshadweep  2021     0     0    0     1     1     3   \n",
       "735         735         Puducherry  2021     2     0    2    31     3    12   \n",
       "\n",
       "     WT  \n",
       "0     7  \n",
       "1     0  \n",
       "2     0  \n",
       "3    83  \n",
       "4     0  \n",
       "..   ..  \n",
       "731   4  \n",
       "732   1  \n",
       "733   0  \n",
       "734   0  \n",
       "735   0  \n",
       "\n",
       "[736 rows x 10 columns]"
      ]
     },
     "execution_count": 5,
     "metadata": {},
     "output_type": "execute_result"
    }
   ],
   "source": [
    "data"
   ]
  },
  {
   "cell_type": "markdown",
   "id": "60a45e6d",
   "metadata": {},
   "source": [
    "# About the columns:\n",
    "## State:The state that recorded crimes\n",
    "## Year:on which year the crime recorded\n",
    "## Rape:Number of Rape Cases Recorded\n",
    "## K&A(Kidnapping and Abduction):Number of K&A cases recorded\n",
    "## DD(Dowry Deaths): Number of DD cases recorded\n",
    "## AoW(Assault on women):Number of AoW cases recorded\n",
    "## AoM(Assault against Modesty of Women):Number of AoM cases recorded\n",
    "## DV(Domestic Violence):Number of Dv cases recorded\n",
    "## WT(Women Trafficking):Number of WT cases recorded"
   ]
  },
  {
   "cell_type": "code",
   "execution_count": 6,
   "id": "ef210c59",
   "metadata": {},
   "outputs": [
    {
     "data": {
      "text/plain": [
       "(736, 10)"
      ]
     },
     "execution_count": 6,
     "metadata": {},
     "output_type": "execute_result"
    }
   ],
   "source": [
    "data.shape"
   ]
  },
  {
   "cell_type": "code",
   "execution_count": 53,
   "id": "b68564a1",
   "metadata": {},
   "outputs": [
    {
     "name": "stdout",
     "output_type": "stream",
     "text": [
      "<class 'pandas.core.frame.DataFrame'>\n",
      "RangeIndex: 736 entries, 0 to 735\n",
      "Data columns (total 10 columns):\n",
      " #   Column      Non-Null Count  Dtype \n",
      "---  ------      --------------  ----- \n",
      " 0   Unnamed: 0  736 non-null    int64 \n",
      " 1   State       736 non-null    object\n",
      " 2   Year        736 non-null    int64 \n",
      " 3   Rape        736 non-null    int64 \n",
      " 4   K&A         736 non-null    int64 \n",
      " 5   DD          736 non-null    int64 \n",
      " 6   AoW         736 non-null    int64 \n",
      " 7   AoM         736 non-null    int64 \n",
      " 8   DV          736 non-null    int64 \n",
      " 9   WT          736 non-null    int64 \n",
      "dtypes: int64(9), object(1)\n",
      "memory usage: 57.6+ KB\n"
     ]
    }
   ],
   "source": [
    "data.info()"
   ]
  },
  {
   "cell_type": "code",
   "execution_count": 54,
   "id": "8e571705",
   "metadata": {},
   "outputs": [
    {
     "data": {
      "text/html": [
       "<div>\n",
       "<style scoped>\n",
       "    .dataframe tbody tr th:only-of-type {\n",
       "        vertical-align: middle;\n",
       "    }\n",
       "\n",
       "    .dataframe tbody tr th {\n",
       "        vertical-align: top;\n",
       "    }\n",
       "\n",
       "    .dataframe thead th {\n",
       "        text-align: right;\n",
       "    }\n",
       "</style>\n",
       "<table border=\"1\" class=\"dataframe\">\n",
       "  <thead>\n",
       "    <tr style=\"text-align: right;\">\n",
       "      <th></th>\n",
       "      <th>Unnamed: 0</th>\n",
       "      <th>Year</th>\n",
       "      <th>Rape</th>\n",
       "      <th>K&amp;A</th>\n",
       "      <th>DD</th>\n",
       "      <th>AoW</th>\n",
       "      <th>AoM</th>\n",
       "      <th>DV</th>\n",
       "      <th>WT</th>\n",
       "    </tr>\n",
       "  </thead>\n",
       "  <tbody>\n",
       "    <tr>\n",
       "      <th>count</th>\n",
       "      <td>736.000000</td>\n",
       "      <td>736.000000</td>\n",
       "      <td>736.000000</td>\n",
       "      <td>736.000000</td>\n",
       "      <td>736.000000</td>\n",
       "      <td>736.000000</td>\n",
       "      <td>736.000000</td>\n",
       "      <td>736.000000</td>\n",
       "      <td>736.000000</td>\n",
       "    </tr>\n",
       "    <tr>\n",
       "      <th>mean</th>\n",
       "      <td>367.500000</td>\n",
       "      <td>2011.149457</td>\n",
       "      <td>727.855978</td>\n",
       "      <td>1134.542120</td>\n",
       "      <td>215.692935</td>\n",
       "      <td>1579.115489</td>\n",
       "      <td>332.722826</td>\n",
       "      <td>2595.078804</td>\n",
       "      <td>28.744565</td>\n",
       "    </tr>\n",
       "    <tr>\n",
       "      <th>std</th>\n",
       "      <td>212.609188</td>\n",
       "      <td>6.053453</td>\n",
       "      <td>977.024945</td>\n",
       "      <td>1993.536828</td>\n",
       "      <td>424.927334</td>\n",
       "      <td>2463.962518</td>\n",
       "      <td>806.024551</td>\n",
       "      <td>4042.004953</td>\n",
       "      <td>79.999660</td>\n",
       "    </tr>\n",
       "    <tr>\n",
       "      <th>min</th>\n",
       "      <td>0.000000</td>\n",
       "      <td>2001.000000</td>\n",
       "      <td>0.000000</td>\n",
       "      <td>0.000000</td>\n",
       "      <td>0.000000</td>\n",
       "      <td>0.000000</td>\n",
       "      <td>0.000000</td>\n",
       "      <td>0.000000</td>\n",
       "      <td>0.000000</td>\n",
       "    </tr>\n",
       "    <tr>\n",
       "      <th>25%</th>\n",
       "      <td>183.750000</td>\n",
       "      <td>2006.000000</td>\n",
       "      <td>35.000000</td>\n",
       "      <td>24.750000</td>\n",
       "      <td>1.000000</td>\n",
       "      <td>34.000000</td>\n",
       "      <td>3.000000</td>\n",
       "      <td>13.000000</td>\n",
       "      <td>0.000000</td>\n",
       "    </tr>\n",
       "    <tr>\n",
       "      <th>50%</th>\n",
       "      <td>367.500000</td>\n",
       "      <td>2011.000000</td>\n",
       "      <td>348.500000</td>\n",
       "      <td>290.000000</td>\n",
       "      <td>29.000000</td>\n",
       "      <td>387.500000</td>\n",
       "      <td>31.000000</td>\n",
       "      <td>678.500000</td>\n",
       "      <td>0.000000</td>\n",
       "    </tr>\n",
       "    <tr>\n",
       "      <th>75%</th>\n",
       "      <td>551.250000</td>\n",
       "      <td>2016.000000</td>\n",
       "      <td>1069.000000</td>\n",
       "      <td>1216.000000</td>\n",
       "      <td>259.000000</td>\n",
       "      <td>2122.250000</td>\n",
       "      <td>277.500000</td>\n",
       "      <td>3545.000000</td>\n",
       "      <td>15.000000</td>\n",
       "    </tr>\n",
       "    <tr>\n",
       "      <th>max</th>\n",
       "      <td>735.000000</td>\n",
       "      <td>2021.000000</td>\n",
       "      <td>6337.000000</td>\n",
       "      <td>15381.000000</td>\n",
       "      <td>2524.000000</td>\n",
       "      <td>14853.000000</td>\n",
       "      <td>9422.000000</td>\n",
       "      <td>23278.000000</td>\n",
       "      <td>549.000000</td>\n",
       "    </tr>\n",
       "  </tbody>\n",
       "</table>\n",
       "</div>"
      ],
      "text/plain": [
       "       Unnamed: 0         Year         Rape           K&A           DD  \\\n",
       "count  736.000000   736.000000   736.000000    736.000000   736.000000   \n",
       "mean   367.500000  2011.149457   727.855978   1134.542120   215.692935   \n",
       "std    212.609188     6.053453   977.024945   1993.536828   424.927334   \n",
       "min      0.000000  2001.000000     0.000000      0.000000     0.000000   \n",
       "25%    183.750000  2006.000000    35.000000     24.750000     1.000000   \n",
       "50%    367.500000  2011.000000   348.500000    290.000000    29.000000   \n",
       "75%    551.250000  2016.000000  1069.000000   1216.000000   259.000000   \n",
       "max    735.000000  2021.000000  6337.000000  15381.000000  2524.000000   \n",
       "\n",
       "                AoW          AoM            DV          WT  \n",
       "count    736.000000   736.000000    736.000000  736.000000  \n",
       "mean    1579.115489   332.722826   2595.078804   28.744565  \n",
       "std     2463.962518   806.024551   4042.004953   79.999660  \n",
       "min        0.000000     0.000000      0.000000    0.000000  \n",
       "25%       34.000000     3.000000     13.000000    0.000000  \n",
       "50%      387.500000    31.000000    678.500000    0.000000  \n",
       "75%     2122.250000   277.500000   3545.000000   15.000000  \n",
       "max    14853.000000  9422.000000  23278.000000  549.000000  "
      ]
     },
     "execution_count": 54,
     "metadata": {},
     "output_type": "execute_result"
    }
   ],
   "source": [
    "data.describe()"
   ]
  },
  {
   "cell_type": "code",
   "execution_count": 7,
   "id": "2cec4a3f",
   "metadata": {},
   "outputs": [],
   "source": [
    "data_cleaned =data.drop(columns=['Unnamed: 0'])\n"
   ]
  },
  {
   "cell_type": "code",
   "execution_count": 10,
   "id": "7f78626c",
   "metadata": {},
   "outputs": [
    {
     "data": {
      "text/html": [
       "<div>\n",
       "<style scoped>\n",
       "    .dataframe tbody tr th:only-of-type {\n",
       "        vertical-align: middle;\n",
       "    }\n",
       "\n",
       "    .dataframe tbody tr th {\n",
       "        vertical-align: top;\n",
       "    }\n",
       "\n",
       "    .dataframe thead th {\n",
       "        text-align: right;\n",
       "    }\n",
       "</style>\n",
       "<table border=\"1\" class=\"dataframe\">\n",
       "  <thead>\n",
       "    <tr style=\"text-align: right;\">\n",
       "      <th></th>\n",
       "      <th>State</th>\n",
       "      <th>Year</th>\n",
       "      <th>Rape</th>\n",
       "      <th>K&amp;A</th>\n",
       "      <th>DD</th>\n",
       "      <th>AoW</th>\n",
       "      <th>AoM</th>\n",
       "      <th>DV</th>\n",
       "      <th>WT</th>\n",
       "    </tr>\n",
       "  </thead>\n",
       "  <tbody>\n",
       "    <tr>\n",
       "      <th>0</th>\n",
       "      <td>ANDHRA PRADESH</td>\n",
       "      <td>2001</td>\n",
       "      <td>871</td>\n",
       "      <td>765</td>\n",
       "      <td>420</td>\n",
       "      <td>3544</td>\n",
       "      <td>2271</td>\n",
       "      <td>5791</td>\n",
       "      <td>7</td>\n",
       "    </tr>\n",
       "    <tr>\n",
       "      <th>1</th>\n",
       "      <td>ARUNACHAL PRADESH</td>\n",
       "      <td>2001</td>\n",
       "      <td>33</td>\n",
       "      <td>55</td>\n",
       "      <td>0</td>\n",
       "      <td>78</td>\n",
       "      <td>3</td>\n",
       "      <td>11</td>\n",
       "      <td>0</td>\n",
       "    </tr>\n",
       "    <tr>\n",
       "      <th>2</th>\n",
       "      <td>ASSAM</td>\n",
       "      <td>2001</td>\n",
       "      <td>817</td>\n",
       "      <td>1070</td>\n",
       "      <td>59</td>\n",
       "      <td>850</td>\n",
       "      <td>4</td>\n",
       "      <td>1248</td>\n",
       "      <td>0</td>\n",
       "    </tr>\n",
       "    <tr>\n",
       "      <th>3</th>\n",
       "      <td>BIHAR</td>\n",
       "      <td>2001</td>\n",
       "      <td>888</td>\n",
       "      <td>518</td>\n",
       "      <td>859</td>\n",
       "      <td>562</td>\n",
       "      <td>21</td>\n",
       "      <td>1558</td>\n",
       "      <td>83</td>\n",
       "    </tr>\n",
       "    <tr>\n",
       "      <th>4</th>\n",
       "      <td>CHHATTISGARH</td>\n",
       "      <td>2001</td>\n",
       "      <td>959</td>\n",
       "      <td>171</td>\n",
       "      <td>70</td>\n",
       "      <td>1763</td>\n",
       "      <td>161</td>\n",
       "      <td>840</td>\n",
       "      <td>0</td>\n",
       "    </tr>\n",
       "    <tr>\n",
       "      <th>...</th>\n",
       "      <td>...</td>\n",
       "      <td>...</td>\n",
       "      <td>...</td>\n",
       "      <td>...</td>\n",
       "      <td>...</td>\n",
       "      <td>...</td>\n",
       "      <td>...</td>\n",
       "      <td>...</td>\n",
       "      <td>...</td>\n",
       "    </tr>\n",
       "    <tr>\n",
       "      <th>731</th>\n",
       "      <td>D&amp;N Haveli</td>\n",
       "      <td>2021</td>\n",
       "      <td>1250</td>\n",
       "      <td>4083</td>\n",
       "      <td>141</td>\n",
       "      <td>2068</td>\n",
       "      <td>417</td>\n",
       "      <td>4731</td>\n",
       "      <td>4</td>\n",
       "    </tr>\n",
       "    <tr>\n",
       "      <th>732</th>\n",
       "      <td>Daman &amp; Diu</td>\n",
       "      <td>2021</td>\n",
       "      <td>315</td>\n",
       "      <td>904</td>\n",
       "      <td>16</td>\n",
       "      <td>1851</td>\n",
       "      <td>10</td>\n",
       "      <td>501</td>\n",
       "      <td>1</td>\n",
       "    </tr>\n",
       "    <tr>\n",
       "      <th>733</th>\n",
       "      <td>Delhi UT</td>\n",
       "      <td>2021</td>\n",
       "      <td>2</td>\n",
       "      <td>1</td>\n",
       "      <td>0</td>\n",
       "      <td>5</td>\n",
       "      <td>1</td>\n",
       "      <td>9</td>\n",
       "      <td>0</td>\n",
       "    </tr>\n",
       "    <tr>\n",
       "      <th>734</th>\n",
       "      <td>Lakshadweep</td>\n",
       "      <td>2021</td>\n",
       "      <td>0</td>\n",
       "      <td>0</td>\n",
       "      <td>0</td>\n",
       "      <td>1</td>\n",
       "      <td>1</td>\n",
       "      <td>3</td>\n",
       "      <td>0</td>\n",
       "    </tr>\n",
       "    <tr>\n",
       "      <th>735</th>\n",
       "      <td>Puducherry</td>\n",
       "      <td>2021</td>\n",
       "      <td>2</td>\n",
       "      <td>0</td>\n",
       "      <td>2</td>\n",
       "      <td>31</td>\n",
       "      <td>3</td>\n",
       "      <td>12</td>\n",
       "      <td>0</td>\n",
       "    </tr>\n",
       "  </tbody>\n",
       "</table>\n",
       "<p>736 rows × 9 columns</p>\n",
       "</div>"
      ],
      "text/plain": [
       "                 State  Year  Rape   K&A   DD   AoW   AoM    DV  WT\n",
       "0       ANDHRA PRADESH  2001   871   765  420  3544  2271  5791   7\n",
       "1    ARUNACHAL PRADESH  2001    33    55    0    78     3    11   0\n",
       "2                ASSAM  2001   817  1070   59   850     4  1248   0\n",
       "3                BIHAR  2001   888   518  859   562    21  1558  83\n",
       "4         CHHATTISGARH  2001   959   171   70  1763   161   840   0\n",
       "..                 ...   ...   ...   ...  ...   ...   ...   ...  ..\n",
       "731         D&N Haveli  2021  1250  4083  141  2068   417  4731   4\n",
       "732        Daman & Diu  2021   315   904   16  1851    10   501   1\n",
       "733           Delhi UT  2021     2     1    0     5     1     9   0\n",
       "734        Lakshadweep  2021     0     0    0     1     1     3   0\n",
       "735         Puducherry  2021     2     0    2    31     3    12   0\n",
       "\n",
       "[736 rows x 9 columns]"
      ]
     },
     "execution_count": 10,
     "metadata": {},
     "output_type": "execute_result"
    }
   ],
   "source": [
    "data_cleaned\n"
   ]
  },
  {
   "cell_type": "code",
   "execution_count": 11,
   "id": "16218952",
   "metadata": {},
   "outputs": [
    {
     "data": {
      "text/plain": [
       "State    0\n",
       "Year     0\n",
       "Rape     0\n",
       "K&A      0\n",
       "DD       0\n",
       "AoW      0\n",
       "AoM      0\n",
       "DV       0\n",
       "WT       0\n",
       "dtype: int64"
      ]
     },
     "execution_count": 11,
     "metadata": {},
     "output_type": "execute_result"
    }
   ],
   "source": [
    "data_cleaned.isnull().sum()"
   ]
  },
  {
   "cell_type": "markdown",
   "id": "e4001f84",
   "metadata": {},
   "source": [
    "# Univariate: Analysis involving a single variable, used to describe and summarize its distribution, central tendency, and variability (e.g., mean, median, standard deviation).\n",
    "# Bivariate: Analysis involving two variables, focusing on the relationship or correlation between them (e.g., scatter plots, correlation coefficients).\n",
    "# Multivariate: Analysis involving more than two variables, used to understand complex relationships and interactions among them (e.g., multiple regression, principal component analysis).\n"
   ]
  },
  {
   "cell_type": "markdown",
   "id": "8674d654",
   "metadata": {},
   "source": [
    "# Data Visulization:\n",
    "Uni-variate Anlaysis\n"
   ]
  },
  {
   "cell_type": "code",
   "execution_count": 12,
   "id": "b39110a2",
   "metadata": {},
   "outputs": [
    {
     "data": {
      "image/png": "[encoded data removed]",
      "text/plain": [
       "<Figure size 864x432 with 1 Axes>"
      ]
     },
     "metadata": {
      "needs_background": "light"
     },
     "output_type": "display_data"
    }
   ],
   "source": [
    "crime_trend = data_cleaned.groupby('Year').sum()\n",
    "plt.figure(figsize=(12, 6))\n",
    "sns.lineplot(data=crime_trend)\n",
    "plt.title('Trend of Crimes Against Women (2001-2021)')\n",
    "plt.xlabel('Year')\n",
    "plt.ylabel('Number of Crimes')\n",
    "plt.xticks(rotation=45)\n",
    "plt.legend(title='Crime Type', bbox_to_anchor=(1.05, 1), loc='upper left')\n",
    "plt.show()"
   ]
  },
  {
   "cell_type": "code",
   "execution_count": 24,
   "id": "f5e110f8",
   "metadata": {},
   "outputs": [
    {
     "data": {
      "text/html": [
       "<div>\n",
       "<style scoped>\n",
       "    .dataframe tbody tr th:only-of-type {\n",
       "        vertical-align: middle;\n",
       "    }\n",
       "\n",
       "    .dataframe tbody tr th {\n",
       "        vertical-align: top;\n",
       "    }\n",
       "\n",
       "    .dataframe thead th {\n",
       "        text-align: right;\n",
       "    }\n",
       "</style>\n",
       "<table border=\"1\" class=\"dataframe\">\n",
       "  <thead>\n",
       "    <tr style=\"text-align: right;\">\n",
       "      <th></th>\n",
       "      <th>Rape</th>\n",
       "      <th>K&amp;A</th>\n",
       "      <th>DD</th>\n",
       "      <th>AoW</th>\n",
       "      <th>AoM</th>\n",
       "      <th>DV</th>\n",
       "      <th>WT</th>\n",
       "    </tr>\n",
       "    <tr>\n",
       "      <th>Year</th>\n",
       "      <th></th>\n",
       "      <th></th>\n",
       "      <th></th>\n",
       "      <th></th>\n",
       "      <th></th>\n",
       "      <th></th>\n",
       "      <th></th>\n",
       "    </tr>\n",
       "  </thead>\n",
       "  <tbody>\n",
       "    <tr>\n",
       "      <th>2001</th>\n",
       "      <td>15694</td>\n",
       "      <td>13681</td>\n",
       "      <td>6738</td>\n",
       "      <td>33622</td>\n",
       "      <td>9656</td>\n",
       "      <td>49032</td>\n",
       "      <td>114</td>\n",
       "    </tr>\n",
       "    <tr>\n",
       "      <th>2002</th>\n",
       "      <td>15970</td>\n",
       "      <td>13613</td>\n",
       "      <td>6687</td>\n",
       "      <td>33497</td>\n",
       "      <td>10027</td>\n",
       "      <td>49102</td>\n",
       "      <td>76</td>\n",
       "    </tr>\n",
       "    <tr>\n",
       "      <th>2003</th>\n",
       "      <td>15357</td>\n",
       "      <td>12499</td>\n",
       "      <td>6078</td>\n",
       "      <td>32450</td>\n",
       "      <td>12220</td>\n",
       "      <td>49492</td>\n",
       "      <td>46</td>\n",
       "    </tr>\n",
       "    <tr>\n",
       "      <th>2004</th>\n",
       "      <td>17682</td>\n",
       "      <td>14697</td>\n",
       "      <td>6900</td>\n",
       "      <td>33966</td>\n",
       "      <td>9871</td>\n",
       "      <td>56867</td>\n",
       "      <td>89</td>\n",
       "    </tr>\n",
       "    <tr>\n",
       "      <th>2005</th>\n",
       "      <td>17701</td>\n",
       "      <td>14644</td>\n",
       "      <td>6673</td>\n",
       "      <td>33413</td>\n",
       "      <td>9759</td>\n",
       "      <td>56995</td>\n",
       "      <td>148</td>\n",
       "    </tr>\n",
       "    <tr>\n",
       "      <th>2006</th>\n",
       "      <td>18725</td>\n",
       "      <td>16348</td>\n",
       "      <td>7481</td>\n",
       "      <td>35899</td>\n",
       "      <td>9822</td>\n",
       "      <td>61400</td>\n",
       "      <td>67</td>\n",
       "    </tr>\n",
       "    <tr>\n",
       "      <th>2007</th>\n",
       "      <td>20139</td>\n",
       "      <td>19249</td>\n",
       "      <td>7955</td>\n",
       "      <td>37866</td>\n",
       "      <td>10783</td>\n",
       "      <td>74143</td>\n",
       "      <td>61</td>\n",
       "    </tr>\n",
       "    <tr>\n",
       "      <th>2008</th>\n",
       "      <td>21001</td>\n",
       "      <td>21803</td>\n",
       "      <td>8043</td>\n",
       "      <td>39802</td>\n",
       "      <td>12084</td>\n",
       "      <td>79957</td>\n",
       "      <td>67</td>\n",
       "    </tr>\n",
       "    <tr>\n",
       "      <th>2009</th>\n",
       "      <td>20928</td>\n",
       "      <td>24086</td>\n",
       "      <td>8242</td>\n",
       "      <td>38159</td>\n",
       "      <td>10891</td>\n",
       "      <td>88263</td>\n",
       "      <td>48</td>\n",
       "    </tr>\n",
       "    <tr>\n",
       "      <th>2010</th>\n",
       "      <td>21665</td>\n",
       "      <td>28055</td>\n",
       "      <td>8248</td>\n",
       "      <td>40012</td>\n",
       "      <td>9881</td>\n",
       "      <td>92637</td>\n",
       "      <td>36</td>\n",
       "    </tr>\n",
       "    <tr>\n",
       "      <th>2011</th>\n",
       "      <td>24206</td>\n",
       "      <td>35565</td>\n",
       "      <td>8618</td>\n",
       "      <td>0</td>\n",
       "      <td>8570</td>\n",
       "      <td>99135</td>\n",
       "      <td>2435</td>\n",
       "    </tr>\n",
       "    <tr>\n",
       "      <th>2012</th>\n",
       "      <td>24923</td>\n",
       "      <td>38262</td>\n",
       "      <td>8233</td>\n",
       "      <td>45344</td>\n",
       "      <td>9173</td>\n",
       "      <td>106527</td>\n",
       "      <td>2563</td>\n",
       "    </tr>\n",
       "    <tr>\n",
       "      <th>2013</th>\n",
       "      <td>33707</td>\n",
       "      <td>51881</td>\n",
       "      <td>8083</td>\n",
       "      <td>70739</td>\n",
       "      <td>12589</td>\n",
       "      <td>118866</td>\n",
       "      <td>2579</td>\n",
       "    </tr>\n",
       "    <tr>\n",
       "      <th>2014</th>\n",
       "      <td>36735</td>\n",
       "      <td>57311</td>\n",
       "      <td>10050</td>\n",
       "      <td>82235</td>\n",
       "      <td>21938</td>\n",
       "      <td>122877</td>\n",
       "      <td>2070</td>\n",
       "    </tr>\n",
       "    <tr>\n",
       "      <th>2015</th>\n",
       "      <td>34651</td>\n",
       "      <td>59277</td>\n",
       "      <td>7634</td>\n",
       "      <td>82422</td>\n",
       "      <td>24041</td>\n",
       "      <td>113403</td>\n",
       "      <td>2424</td>\n",
       "    </tr>\n",
       "    <tr>\n",
       "      <th>2016</th>\n",
       "      <td>38947</td>\n",
       "      <td>64519</td>\n",
       "      <td>7621</td>\n",
       "      <td>84746</td>\n",
       "      <td>27344</td>\n",
       "      <td>110378</td>\n",
       "      <td>2214</td>\n",
       "    </tr>\n",
       "    <tr>\n",
       "      <th>2017</th>\n",
       "      <td>32559</td>\n",
       "      <td>66333</td>\n",
       "      <td>7466</td>\n",
       "      <td>86001</td>\n",
       "      <td>7451</td>\n",
       "      <td>104551</td>\n",
       "      <td>1536</td>\n",
       "    </tr>\n",
       "    <tr>\n",
       "      <th>2018</th>\n",
       "      <td>33356</td>\n",
       "      <td>72751</td>\n",
       "      <td>7166</td>\n",
       "      <td>89097</td>\n",
       "      <td>6992</td>\n",
       "      <td>103272</td>\n",
       "      <td>1459</td>\n",
       "    </tr>\n",
       "    <tr>\n",
       "      <th>2019</th>\n",
       "      <td>32033</td>\n",
       "      <td>72780</td>\n",
       "      <td>7115</td>\n",
       "      <td>88367</td>\n",
       "      <td>6939</td>\n",
       "      <td>125298</td>\n",
       "      <td>1185</td>\n",
       "    </tr>\n",
       "    <tr>\n",
       "      <th>2020</th>\n",
       "      <td>28046</td>\n",
       "      <td>62300</td>\n",
       "      <td>6966</td>\n",
       "      <td>85392</td>\n",
       "      <td>7065</td>\n",
       "      <td>111549</td>\n",
       "      <td>868</td>\n",
       "    </tr>\n",
       "    <tr>\n",
       "      <th>2021</th>\n",
       "      <td>31677</td>\n",
       "      <td>75369</td>\n",
       "      <td>6753</td>\n",
       "      <td>89200</td>\n",
       "      <td>7788</td>\n",
       "      <td>136234</td>\n",
       "      <td>1071</td>\n",
       "    </tr>\n",
       "  </tbody>\n",
       "</table>\n",
       "</div>"
      ],
      "text/plain": [
       "       Rape    K&A     DD    AoW    AoM      DV    WT\n",
       "Year                                                 \n",
       "2001  15694  13681   6738  33622   9656   49032   114\n",
       "2002  15970  13613   6687  33497  10027   49102    76\n",
       "2003  15357  12499   6078  32450  12220   49492    46\n",
       "2004  17682  14697   6900  33966   9871   56867    89\n",
       "2005  17701  14644   6673  33413   9759   56995   148\n",
       "2006  18725  16348   7481  35899   9822   61400    67\n",
       "2007  20139  19249   7955  37866  10783   74143    61\n",
       "2008  21001  21803   8043  39802  12084   79957    67\n",
       "2009  20928  24086   8242  38159  10891   88263    48\n",
       "2010  21665  28055   8248  40012   9881   92637    36\n",
       "2011  24206  35565   8618      0   8570   99135  2435\n",
       "2012  24923  38262   8233  45344   9173  106527  2563\n",
       "2013  33707  51881   8083  70739  12589  118866  2579\n",
       "2014  36735  57311  10050  82235  21938  122877  2070\n",
       "2015  34651  59277   7634  82422  24041  113403  2424\n",
       "2016  38947  64519   7621  84746  27344  110378  2214\n",
       "2017  32559  66333   7466  86001   7451  104551  1536\n",
       "2018  33356  72751   7166  89097   6992  103272  1459\n",
       "2019  32033  72780   7115  88367   6939  125298  1185\n",
       "2020  28046  62300   6966  85392   7065  111549   868\n",
       "2021  31677  75369   6753  89200   7788  136234  1071"
      ]
     },
     "execution_count": 24,
     "metadata": {},
     "output_type": "execute_result"
    }
   ],
   "source": [
    "def helper1(all_cases):\n",
    "    for i in list(data_cleaned.columns)[2:]:\n",
    "        all_cases[i] = data_cleaned.groupby(['Year'])[i].sum()\n",
    "    \n",
    "    return all_cases\n",
    "all_cases = pd.DataFrame()\n",
    "all_cases = helper1(all_cases)\n",
    "all_cases"
   ]
  },
  {
   "cell_type": "code",
   "execution_count": 25,
   "id": "a5bece46",
   "metadata": {},
   "outputs": [
    {
     "data": {
      "text/html": [
       "<div>\n",
       "<style scoped>\n",
       "    .dataframe tbody tr th:only-of-type {\n",
       "        vertical-align: middle;\n",
       "    }\n",
       "\n",
       "    .dataframe tbody tr th {\n",
       "        vertical-align: top;\n",
       "    }\n",
       "\n",
       "    .dataframe thead th {\n",
       "        text-align: right;\n",
       "    }\n",
       "</style>\n",
       "<table border=\"1\" class=\"dataframe\">\n",
       "  <thead>\n",
       "    <tr style=\"text-align: right;\">\n",
       "      <th></th>\n",
       "      <th>Count</th>\n",
       "    </tr>\n",
       "  </thead>\n",
       "  <tbody>\n",
       "    <tr>\n",
       "      <th>DV</th>\n",
       "      <td>1909978</td>\n",
       "    </tr>\n",
       "    <tr>\n",
       "      <th>AoW</th>\n",
       "      <td>1162229</td>\n",
       "    </tr>\n",
       "    <tr>\n",
       "      <th>K&amp;A</th>\n",
       "      <td>835023</td>\n",
       "    </tr>\n",
       "    <tr>\n",
       "      <th>Rape</th>\n",
       "      <td>535702</td>\n",
       "    </tr>\n",
       "    <tr>\n",
       "      <th>AoM</th>\n",
       "      <td>244884</td>\n",
       "    </tr>\n",
       "    <tr>\n",
       "      <th>DD</th>\n",
       "      <td>158750</td>\n",
       "    </tr>\n",
       "    <tr>\n",
       "      <th>WT</th>\n",
       "      <td>21156</td>\n",
       "    </tr>\n",
       "  </tbody>\n",
       "</table>\n",
       "</div>"
      ],
      "text/plain": [
       "        Count\n",
       "DV    1909978\n",
       "AoW   1162229\n",
       "K&A    835023\n",
       "Rape   535702\n",
       "AoM    244884\n",
       "DD     158750\n",
       "WT      21156"
      ]
     },
     "execution_count": 25,
     "metadata": {},
     "output_type": "execute_result"
    }
   ],
   "source": [
    "pd.DataFrame(all_cases.sum(axis=0), columns=['Count']).sort_values(by='Count', ascending=False)"
   ]
  },
  {
   "cell_type": "code",
   "execution_count": 2,
   "id": "52b8fda5",
   "metadata": {},
   "outputs": [
    {
     "ename": "NameError",
     "evalue": "name 'px' is not defined",
     "output_type": "error",
     "traceback": [
      "\u001b[1;31m---------------------------------------------------------------------------\u001b[0m",
      "\u001b[1;31mNameError\u001b[0m                                 Traceback (most recent call last)",
      "Cell \u001b[1;32mIn[2], line 1\u001b[0m\n\u001b[1;32m----> 1\u001b[0m fig\u001b[38;5;241m=\u001b[39m px\u001b[38;5;241m.\u001b[39mpie(pd\u001b[38;5;241m.\u001b[39mDataFrame(all_cases\u001b[38;5;241m.\u001b[39msum(axis\u001b[38;5;241m=\u001b[39m\u001b[38;5;241m0\u001b[39m),columns\u001b[38;5;241m=\u001b[39m[\u001b[38;5;124m'\u001b[39m\u001b[38;5;124mCount\u001b[39m\u001b[38;5;124m'\u001b[39m]), \n\u001b[0;32m      2\u001b[0m              values\u001b[38;5;241m=\u001b[39m\u001b[38;5;124m'\u001b[39m\u001b[38;5;124mCount\u001b[39m\u001b[38;5;124m'\u001b[39m, \n\u001b[0;32m      3\u001b[0m              names\u001b[38;5;241m=\u001b[39mpd\u001b[38;5;241m.\u001b[39mDataFrame(all_cases\u001b[38;5;241m.\u001b[39msum(axis\u001b[38;5;241m=\u001b[39m\u001b[38;5;241m0\u001b[39m))\u001b[38;5;241m.\u001b[39mindex, \n\u001b[0;32m      4\u001b[0m              title\u001b[38;5;241m=\u001b[39m\u001b[38;5;124m'\u001b[39m\u001b[38;5;124mPercentage of Each Crime during 2001 - 2014\u001b[39m\u001b[38;5;124m'\u001b[39m\n\u001b[0;32m      5\u001b[0m             )\n\u001b[0;32m      7\u001b[0m fig\u001b[38;5;241m.\u001b[39mshow()\n",
      "\u001b[1;31mNameError\u001b[0m: name 'px' is not defined"
     ]
    }
   ],
   "source": [
    "fig= px.pie(pd.DataFrame(all_cases.sum(axis=0),columns=['Count']), \n",
    "             values='Count', \n",
    "             names=pd.DataFrame(all_cases.sum(axis=0)).index, \n",
    "             title='Percentage of Each Crime during 2001 - 2014'\n",
    "            )\n",
    "\n",
    "fig.show()"
   ]
  },
  {
   "cell_type": "code",
   "execution_count": 15,
   "id": "404e1345",
   "metadata": {},
   "outputs": [
    {
     "data": {
      "image/png": "[encoded data removed]",
      "text/plain": [
       "<Figure size 864x576 with 6 Axes>"
      ]
     },
     "metadata": {
      "needs_background": "light"
     },
     "output_type": "display_data"
    }
   ],
   "source": [
    "top_n_states = data_cleaned.groupby('State').sum().nlargest(6, 'Rape').index\n",
    "filtered_df = data_cleaned[data_cleaned['State'].isin(top_n_states)]\n",
    "g = sns.FacetGrid(filtered_df, col=\"State\", col_wrap=3, height=4)\n",
    "g.map(sns.lineplot, 'Year', 'Rape')\n",
    "g.set_titles(\"{col_name}\")\n",
    "g.set_axis_labels(\"Year\", \"Number of Rape Cases\")\n",
    "plt.subplots_adjust(top=0.9)\n",
    "g.fig.suptitle('Rape Cases Trends in Top 6 States', fontsize=16)\n",
    "plt.show()"
   ]
  },
  {
   "cell_type": "markdown",
   "id": "b1bfb45c",
   "metadata": {},
   "source": [
    "# Bi-Variate:"
   ]
  },
  {
   "cell_type": "code",
   "execution_count": 85,
   "id": "cfe407bb",
   "metadata": {},
   "outputs": [
    {
     "data": {
      "text/html": [
       "<div>\n",
       "<style scoped>\n",
       "    .dataframe tbody tr th:only-of-type {\n",
       "        vertical-align: middle;\n",
       "    }\n",
       "\n",
       "    .dataframe tbody tr th {\n",
       "        vertical-align: top;\n",
       "    }\n",
       "\n",
       "    .dataframe thead th {\n",
       "        text-align: right;\n",
       "    }\n",
       "</style>\n",
       "<table border=\"1\" class=\"dataframe\">\n",
       "  <thead>\n",
       "    <tr style=\"text-align: right;\">\n",
       "      <th></th>\n",
       "      <th>Rape</th>\n",
       "      <th>K&amp;A</th>\n",
       "      <th>DD</th>\n",
       "      <th>AoW</th>\n",
       "      <th>AoM</th>\n",
       "      <th>DV</th>\n",
       "      <th>WT</th>\n",
       "    </tr>\n",
       "    <tr>\n",
       "      <th>Year</th>\n",
       "      <th></th>\n",
       "      <th></th>\n",
       "      <th></th>\n",
       "      <th></th>\n",
       "      <th></th>\n",
       "      <th></th>\n",
       "      <th></th>\n",
       "    </tr>\n",
       "  </thead>\n",
       "  <tbody>\n",
       "    <tr>\n",
       "      <th>2001</th>\n",
       "      <td>15694</td>\n",
       "      <td>13681</td>\n",
       "      <td>6738</td>\n",
       "      <td>33622</td>\n",
       "      <td>9656</td>\n",
       "      <td>49032</td>\n",
       "      <td>114</td>\n",
       "    </tr>\n",
       "    <tr>\n",
       "      <th>2002</th>\n",
       "      <td>15970</td>\n",
       "      <td>13613</td>\n",
       "      <td>6687</td>\n",
       "      <td>33497</td>\n",
       "      <td>10027</td>\n",
       "      <td>49102</td>\n",
       "      <td>76</td>\n",
       "    </tr>\n",
       "    <tr>\n",
       "      <th>2003</th>\n",
       "      <td>15357</td>\n",
       "      <td>12499</td>\n",
       "      <td>6078</td>\n",
       "      <td>32450</td>\n",
       "      <td>12220</td>\n",
       "      <td>49492</td>\n",
       "      <td>46</td>\n",
       "    </tr>\n",
       "    <tr>\n",
       "      <th>2004</th>\n",
       "      <td>17682</td>\n",
       "      <td>14697</td>\n",
       "      <td>6900</td>\n",
       "      <td>33966</td>\n",
       "      <td>9871</td>\n",
       "      <td>56867</td>\n",
       "      <td>89</td>\n",
       "    </tr>\n",
       "    <tr>\n",
       "      <th>2005</th>\n",
       "      <td>17701</td>\n",
       "      <td>14644</td>\n",
       "      <td>6673</td>\n",
       "      <td>33413</td>\n",
       "      <td>9759</td>\n",
       "      <td>56995</td>\n",
       "      <td>148</td>\n",
       "    </tr>\n",
       "    <tr>\n",
       "      <th>2006</th>\n",
       "      <td>18725</td>\n",
       "      <td>16348</td>\n",
       "      <td>7481</td>\n",
       "      <td>35899</td>\n",
       "      <td>9822</td>\n",
       "      <td>61400</td>\n",
       "      <td>67</td>\n",
       "    </tr>\n",
       "    <tr>\n",
       "      <th>2007</th>\n",
       "      <td>20139</td>\n",
       "      <td>19249</td>\n",
       "      <td>7955</td>\n",
       "      <td>37866</td>\n",
       "      <td>10783</td>\n",
       "      <td>74143</td>\n",
       "      <td>61</td>\n",
       "    </tr>\n",
       "    <tr>\n",
       "      <th>2008</th>\n",
       "      <td>21001</td>\n",
       "      <td>21803</td>\n",
       "      <td>8043</td>\n",
       "      <td>39802</td>\n",
       "      <td>12084</td>\n",
       "      <td>79957</td>\n",
       "      <td>67</td>\n",
       "    </tr>\n",
       "    <tr>\n",
       "      <th>2009</th>\n",
       "      <td>20928</td>\n",
       "      <td>24086</td>\n",
       "      <td>8242</td>\n",
       "      <td>38159</td>\n",
       "      <td>10891</td>\n",
       "      <td>88263</td>\n",
       "      <td>48</td>\n",
       "    </tr>\n",
       "    <tr>\n",
       "      <th>2010</th>\n",
       "      <td>21665</td>\n",
       "      <td>28055</td>\n",
       "      <td>8248</td>\n",
       "      <td>40012</td>\n",
       "      <td>9881</td>\n",
       "      <td>92637</td>\n",
       "      <td>36</td>\n",
       "    </tr>\n",
       "    <tr>\n",
       "      <th>2011</th>\n",
       "      <td>24206</td>\n",
       "      <td>35565</td>\n",
       "      <td>8618</td>\n",
       "      <td>0</td>\n",
       "      <td>8570</td>\n",
       "      <td>99135</td>\n",
       "      <td>2435</td>\n",
       "    </tr>\n",
       "    <tr>\n",
       "      <th>2012</th>\n",
       "      <td>24923</td>\n",
       "      <td>38262</td>\n",
       "      <td>8233</td>\n",
       "      <td>45344</td>\n",
       "      <td>9173</td>\n",
       "      <td>106527</td>\n",
       "      <td>2563</td>\n",
       "    </tr>\n",
       "    <tr>\n",
       "      <th>2013</th>\n",
       "      <td>33707</td>\n",
       "      <td>51881</td>\n",
       "      <td>8083</td>\n",
       "      <td>70739</td>\n",
       "      <td>12589</td>\n",
       "      <td>118866</td>\n",
       "      <td>2579</td>\n",
       "    </tr>\n",
       "    <tr>\n",
       "      <th>2014</th>\n",
       "      <td>36735</td>\n",
       "      <td>57311</td>\n",
       "      <td>10050</td>\n",
       "      <td>82235</td>\n",
       "      <td>21938</td>\n",
       "      <td>122877</td>\n",
       "      <td>2070</td>\n",
       "    </tr>\n",
       "    <tr>\n",
       "      <th>2015</th>\n",
       "      <td>34651</td>\n",
       "      <td>59277</td>\n",
       "      <td>7634</td>\n",
       "      <td>82422</td>\n",
       "      <td>24041</td>\n",
       "      <td>113403</td>\n",
       "      <td>2424</td>\n",
       "    </tr>\n",
       "    <tr>\n",
       "      <th>2016</th>\n",
       "      <td>38947</td>\n",
       "      <td>64519</td>\n",
       "      <td>7621</td>\n",
       "      <td>84746</td>\n",
       "      <td>27344</td>\n",
       "      <td>110378</td>\n",
       "      <td>2214</td>\n",
       "    </tr>\n",
       "    <tr>\n",
       "      <th>2017</th>\n",
       "      <td>32559</td>\n",
       "      <td>66333</td>\n",
       "      <td>7466</td>\n",
       "      <td>86001</td>\n",
       "      <td>7451</td>\n",
       "      <td>104551</td>\n",
       "      <td>1536</td>\n",
       "    </tr>\n",
       "    <tr>\n",
       "      <th>2018</th>\n",
       "      <td>33356</td>\n",
       "      <td>72751</td>\n",
       "      <td>7166</td>\n",
       "      <td>89097</td>\n",
       "      <td>6992</td>\n",
       "      <td>103272</td>\n",
       "      <td>1459</td>\n",
       "    </tr>\n",
       "    <tr>\n",
       "      <th>2019</th>\n",
       "      <td>32033</td>\n",
       "      <td>72780</td>\n",
       "      <td>7115</td>\n",
       "      <td>88367</td>\n",
       "      <td>6939</td>\n",
       "      <td>125298</td>\n",
       "      <td>1185</td>\n",
       "    </tr>\n",
       "    <tr>\n",
       "      <th>2020</th>\n",
       "      <td>28046</td>\n",
       "      <td>62300</td>\n",
       "      <td>6966</td>\n",
       "      <td>85392</td>\n",
       "      <td>7065</td>\n",
       "      <td>111549</td>\n",
       "      <td>868</td>\n",
       "    </tr>\n",
       "    <tr>\n",
       "      <th>2021</th>\n",
       "      <td>31677</td>\n",
       "      <td>75369</td>\n",
       "      <td>6753</td>\n",
       "      <td>89200</td>\n",
       "      <td>7788</td>\n",
       "      <td>136234</td>\n",
       "      <td>1071</td>\n",
       "    </tr>\n",
       "  </tbody>\n",
       "</table>\n",
       "</div>"
      ],
      "text/plain": [
       "       Rape    K&A     DD    AoW    AoM      DV    WT\n",
       "Year                                                 \n",
       "2001  15694  13681   6738  33622   9656   49032   114\n",
       "2002  15970  13613   6687  33497  10027   49102    76\n",
       "2003  15357  12499   6078  32450  12220   49492    46\n",
       "2004  17682  14697   6900  33966   9871   56867    89\n",
       "2005  17701  14644   6673  33413   9759   56995   148\n",
       "2006  18725  16348   7481  35899   9822   61400    67\n",
       "2007  20139  19249   7955  37866  10783   74143    61\n",
       "2008  21001  21803   8043  39802  12084   79957    67\n",
       "2009  20928  24086   8242  38159  10891   88263    48\n",
       "2010  21665  28055   8248  40012   9881   92637    36\n",
       "2011  24206  35565   8618      0   8570   99135  2435\n",
       "2012  24923  38262   8233  45344   9173  106527  2563\n",
       "2013  33707  51881   8083  70739  12589  118866  2579\n",
       "2014  36735  57311  10050  82235  21938  122877  2070\n",
       "2015  34651  59277   7634  82422  24041  113403  2424\n",
       "2016  38947  64519   7621  84746  27344  110378  2214\n",
       "2017  32559  66333   7466  86001   7451  104551  1536\n",
       "2018  33356  72751   7166  89097   6992  103272  1459\n",
       "2019  32033  72780   7115  88367   6939  125298  1185\n",
       "2020  28046  62300   6966  85392   7065  111549   868\n",
       "2021  31677  75369   6753  89200   7788  136234  1071"
      ]
     },
     "execution_count": 85,
     "metadata": {},
     "output_type": "execute_result"
    }
   ],
   "source": [
    "crimetypesum = data.groupby('Year')[['Rape', 'K&A', 'DD', \n",
    "                                'AoW', 'AoM', \n",
    "                                'DV', 'WT']].sum()\n",
    "crimetypesum"
   ]
  },
  {
   "cell_type": "code",
   "execution_count": 133,
   "id": "927e8d0a",
   "metadata": {},
   "outputs": [
    {
     "data": {
      "image/png": "[encoded data removed]",
      "text/plain": [
       "<Figure size 864x432 with 1 Axes>"
      ]
     },
     "metadata": {
      "needs_background": "light"
     },
     "output_type": "display_data"
    }
   ],
   "source": [
    "crimetypesum.plot(kind='bar', stacked=True, figsize=(12, 6), colormap='Set2')\n",
    "plt.title('Distribution of Different Crimes Against Women Over Time (2001-2021)')\n",
    "plt.xlabel('Year')\n",
    "plt.ylabel('Total Crimes')\n",
    "plt.show();"
   ]
  },
  {
   "cell_type": "code",
   "execution_count": 87,
   "id": "9e6213bb",
   "metadata": {},
   "outputs": [
    {
     "data": {
      "text/html": [
       "<div>\n",
       "<style scoped>\n",
       "    .dataframe tbody tr th:only-of-type {\n",
       "        vertical-align: middle;\n",
       "    }\n",
       "\n",
       "    .dataframe tbody tr th {\n",
       "        vertical-align: top;\n",
       "    }\n",
       "\n",
       "    .dataframe thead th {\n",
       "        text-align: right;\n",
       "    }\n",
       "</style>\n",
       "<table border=\"1\" class=\"dataframe\">\n",
       "  <thead>\n",
       "    <tr style=\"text-align: right;\">\n",
       "      <th></th>\n",
       "      <th>Unnamed: 0</th>\n",
       "      <th>State</th>\n",
       "      <th>Year</th>\n",
       "      <th>Rape</th>\n",
       "      <th>K&amp;A</th>\n",
       "      <th>DD</th>\n",
       "      <th>AoW</th>\n",
       "      <th>AoM</th>\n",
       "      <th>DV</th>\n",
       "      <th>WT</th>\n",
       "      <th>Total Crimes</th>\n",
       "    </tr>\n",
       "  </thead>\n",
       "  <tbody>\n",
       "    <tr>\n",
       "      <th>0</th>\n",
       "      <td>0</td>\n",
       "      <td>ANDHRA PRADESH</td>\n",
       "      <td>2001</td>\n",
       "      <td>871</td>\n",
       "      <td>765</td>\n",
       "      <td>420</td>\n",
       "      <td>3544</td>\n",
       "      <td>2271</td>\n",
       "      <td>5791</td>\n",
       "      <td>7</td>\n",
       "      <td>13669</td>\n",
       "    </tr>\n",
       "    <tr>\n",
       "      <th>1</th>\n",
       "      <td>1</td>\n",
       "      <td>ARUNACHAL PRADESH</td>\n",
       "      <td>2001</td>\n",
       "      <td>33</td>\n",
       "      <td>55</td>\n",
       "      <td>0</td>\n",
       "      <td>78</td>\n",
       "      <td>3</td>\n",
       "      <td>11</td>\n",
       "      <td>0</td>\n",
       "      <td>180</td>\n",
       "    </tr>\n",
       "    <tr>\n",
       "      <th>2</th>\n",
       "      <td>2</td>\n",
       "      <td>ASSAM</td>\n",
       "      <td>2001</td>\n",
       "      <td>817</td>\n",
       "      <td>1070</td>\n",
       "      <td>59</td>\n",
       "      <td>850</td>\n",
       "      <td>4</td>\n",
       "      <td>1248</td>\n",
       "      <td>0</td>\n",
       "      <td>4048</td>\n",
       "    </tr>\n",
       "    <tr>\n",
       "      <th>3</th>\n",
       "      <td>3</td>\n",
       "      <td>BIHAR</td>\n",
       "      <td>2001</td>\n",
       "      <td>888</td>\n",
       "      <td>518</td>\n",
       "      <td>859</td>\n",
       "      <td>562</td>\n",
       "      <td>21</td>\n",
       "      <td>1558</td>\n",
       "      <td>83</td>\n",
       "      <td>4489</td>\n",
       "    </tr>\n",
       "    <tr>\n",
       "      <th>4</th>\n",
       "      <td>4</td>\n",
       "      <td>CHHATTISGARH</td>\n",
       "      <td>2001</td>\n",
       "      <td>959</td>\n",
       "      <td>171</td>\n",
       "      <td>70</td>\n",
       "      <td>1763</td>\n",
       "      <td>161</td>\n",
       "      <td>840</td>\n",
       "      <td>0</td>\n",
       "      <td>3964</td>\n",
       "    </tr>\n",
       "  </tbody>\n",
       "</table>\n",
       "</div>"
      ],
      "text/plain": [
       "   Unnamed: 0              State  Year  Rape   K&A   DD   AoW   AoM    DV  WT  \\\n",
       "0           0     ANDHRA PRADESH  2001   871   765  420  3544  2271  5791   7   \n",
       "1           1  ARUNACHAL PRADESH  2001    33    55    0    78     3    11   0   \n",
       "2           2              ASSAM  2001   817  1070   59   850     4  1248   0   \n",
       "3           3              BIHAR  2001   888   518  859   562    21  1558  83   \n",
       "4           4       CHHATTISGARH  2001   959   171   70  1763   161   840   0   \n",
       "\n",
       "   Total Crimes  \n",
       "0         13669  \n",
       "1           180  \n",
       "2          4048  \n",
       "3          4489  \n",
       "4          3964  "
      ]
     },
     "execution_count": 87,
     "metadata": {},
     "output_type": "execute_result"
    }
   ],
   "source": [
    "data['Total Crimes'] = data[['Rape', 'K&A', 'DD', \n",
    "                         'AoW', 'AoM', \n",
    "                         'DV', 'WT']].fillna(0).sum(axis=1)\n",
    "data.head()"
   ]
  },
  {
   "cell_type": "code",
   "execution_count": null,
   "id": "42a47f5e",
   "metadata": {},
   "outputs": [],
   "source": [
    "statewise_crimetypesum = data.groupby('State')[['Rape', 'K&A', 'DD', \n",
    "                                'AoW', 'AoM', \n",
    "                                'DV', 'WT']].sum().reset_index().sort_values(by=\"Total Crimes\",ascending=False).reset_index(drop=True).head(10)\n",
    "statewise_crimetypesum"
   ]
  },
  {
   "cell_type": "code",
   "execution_count": 114,
   "id": "5f680a51",
   "metadata": {},
   "outputs": [
    {
     "data": {
      "text/html": [
       "<div>\n",
       "<style scoped>\n",
       "    .dataframe tbody tr th:only-of-type {\n",
       "        vertical-align: middle;\n",
       "    }\n",
       "\n",
       "    .dataframe tbody tr th {\n",
       "        vertical-align: top;\n",
       "    }\n",
       "\n",
       "    .dataframe thead th {\n",
       "        text-align: right;\n",
       "    }\n",
       "</style>\n",
       "<table border=\"1\" class=\"dataframe\">\n",
       "  <thead>\n",
       "    <tr style=\"text-align: right;\">\n",
       "      <th></th>\n",
       "      <th>State</th>\n",
       "      <th>Crime Type</th>\n",
       "      <th>Number of Crimes</th>\n",
       "    </tr>\n",
       "  </thead>\n",
       "  <tbody>\n",
       "    <tr>\n",
       "      <th>0</th>\n",
       "      <td>Madhya Pradesh</td>\n",
       "      <td>Rape</td>\n",
       "      <td>72808</td>\n",
       "    </tr>\n",
       "    <tr>\n",
       "      <th>1</th>\n",
       "      <td>Uttar Pradesh</td>\n",
       "      <td>Rape</td>\n",
       "      <td>45694</td>\n",
       "    </tr>\n",
       "    <tr>\n",
       "      <th>2</th>\n",
       "      <td>Rajasthan</td>\n",
       "      <td>Rape</td>\n",
       "      <td>43799</td>\n",
       "    </tr>\n",
       "    <tr>\n",
       "      <th>3</th>\n",
       "      <td>Maharashtra</td>\n",
       "      <td>Rape</td>\n",
       "      <td>39252</td>\n",
       "    </tr>\n",
       "    <tr>\n",
       "      <th>4</th>\n",
       "      <td>Assam</td>\n",
       "      <td>Rape</td>\n",
       "      <td>32190</td>\n",
       "    </tr>\n",
       "    <tr>\n",
       "      <th>5</th>\n",
       "      <td>West Bengal</td>\n",
       "      <td>Rape</td>\n",
       "      <td>29486</td>\n",
       "    </tr>\n",
       "    <tr>\n",
       "      <th>6</th>\n",
       "      <td>Chhattisgarh</td>\n",
       "      <td>Rape</td>\n",
       "      <td>25178</td>\n",
       "    </tr>\n",
       "    <tr>\n",
       "      <th>7</th>\n",
       "      <td>Odisha</td>\n",
       "      <td>Rape</td>\n",
       "      <td>24810</td>\n",
       "    </tr>\n",
       "    <tr>\n",
       "      <th>8</th>\n",
       "      <td>Kerala</td>\n",
       "      <td>Rape</td>\n",
       "      <td>24184</td>\n",
       "    </tr>\n",
       "    <tr>\n",
       "      <th>9</th>\n",
       "      <td>Andhra Pradesh</td>\n",
       "      <td>Rape</td>\n",
       "      <td>23424</td>\n",
       "    </tr>\n",
       "    <tr>\n",
       "      <th>10</th>\n",
       "      <td>Madhya Pradesh</td>\n",
       "      <td>K&amp;A</td>\n",
       "      <td>57485</td>\n",
       "    </tr>\n",
       "    <tr>\n",
       "      <th>11</th>\n",
       "      <td>Uttar Pradesh</td>\n",
       "      <td>K&amp;A</td>\n",
       "      <td>133856</td>\n",
       "    </tr>\n",
       "    <tr>\n",
       "      <th>12</th>\n",
       "      <td>Rajasthan</td>\n",
       "      <td>K&amp;A</td>\n",
       "      <td>55320</td>\n",
       "    </tr>\n",
       "    <tr>\n",
       "      <th>13</th>\n",
       "      <td>Maharashtra</td>\n",
       "      <td>K&amp;A</td>\n",
       "      <td>46522</td>\n",
       "    </tr>\n",
       "    <tr>\n",
       "      <th>14</th>\n",
       "      <td>Assam</td>\n",
       "      <td>K&amp;A</td>\n",
       "      <td>71462</td>\n",
       "    </tr>\n",
       "    <tr>\n",
       "      <th>15</th>\n",
       "      <td>West Bengal</td>\n",
       "      <td>K&amp;A</td>\n",
       "      <td>51742</td>\n",
       "    </tr>\n",
       "    <tr>\n",
       "      <th>16</th>\n",
       "      <td>Chhattisgarh</td>\n",
       "      <td>K&amp;A</td>\n",
       "      <td>16536</td>\n",
       "    </tr>\n",
       "    <tr>\n",
       "      <th>17</th>\n",
       "      <td>Odisha</td>\n",
       "      <td>K&amp;A</td>\n",
       "      <td>29847</td>\n",
       "    </tr>\n",
       "    <tr>\n",
       "      <th>18</th>\n",
       "      <td>Kerala</td>\n",
       "      <td>K&amp;A</td>\n",
       "      <td>14056</td>\n",
       "    </tr>\n",
       "    <tr>\n",
       "      <th>19</th>\n",
       "      <td>Andhra Pradesh</td>\n",
       "      <td>K&amp;A</td>\n",
       "      <td>21707</td>\n",
       "    </tr>\n",
       "    <tr>\n",
       "      <th>20</th>\n",
       "      <td>Madhya Pradesh</td>\n",
       "      <td>DD</td>\n",
       "      <td>13316</td>\n",
       "    </tr>\n",
       "    <tr>\n",
       "      <th>21</th>\n",
       "      <td>Uttar Pradesh</td>\n",
       "      <td>DD</td>\n",
       "      <td>40615</td>\n",
       "    </tr>\n",
       "    <tr>\n",
       "      <th>22</th>\n",
       "      <td>Rajasthan</td>\n",
       "      <td>DD</td>\n",
       "      <td>7769</td>\n",
       "    </tr>\n",
       "    <tr>\n",
       "      <th>23</th>\n",
       "      <td>Maharashtra</td>\n",
       "      <td>DD</td>\n",
       "      <td>5756</td>\n",
       "    </tr>\n",
       "    <tr>\n",
       "      <th>24</th>\n",
       "      <td>Assam</td>\n",
       "      <td>DD</td>\n",
       "      <td>2757</td>\n",
       "    </tr>\n",
       "    <tr>\n",
       "      <th>25</th>\n",
       "      <td>West Bengal</td>\n",
       "      <td>DD</td>\n",
       "      <td>8075</td>\n",
       "    </tr>\n",
       "    <tr>\n",
       "      <th>26</th>\n",
       "      <td>Chhattisgarh</td>\n",
       "      <td>DD</td>\n",
       "      <td>1797</td>\n",
       "    </tr>\n",
       "    <tr>\n",
       "      <th>27</th>\n",
       "      <td>Odisha</td>\n",
       "      <td>DD</td>\n",
       "      <td>7521</td>\n",
       "    </tr>\n",
       "    <tr>\n",
       "      <th>28</th>\n",
       "      <td>Kerala</td>\n",
       "      <td>DD</td>\n",
       "      <td>1525</td>\n",
       "    </tr>\n",
       "    <tr>\n",
       "      <th>29</th>\n",
       "      <td>Andhra Pradesh</td>\n",
       "      <td>DD</td>\n",
       "      <td>8165</td>\n",
       "    </tr>\n",
       "    <tr>\n",
       "      <th>30</th>\n",
       "      <td>Madhya Pradesh</td>\n",
       "      <td>AoW</td>\n",
       "      <td>152000</td>\n",
       "    </tr>\n",
       "    <tr>\n",
       "      <th>31</th>\n",
       "      <td>Uttar Pradesh</td>\n",
       "      <td>AoW</td>\n",
       "      <td>99650</td>\n",
       "    </tr>\n",
       "    <tr>\n",
       "      <th>32</th>\n",
       "      <td>Rajasthan</td>\n",
       "      <td>AoW</td>\n",
       "      <td>67855</td>\n",
       "    </tr>\n",
       "    <tr>\n",
       "      <th>33</th>\n",
       "      <td>Maharashtra</td>\n",
       "      <td>AoW</td>\n",
       "      <td>107519</td>\n",
       "    </tr>\n",
       "    <tr>\n",
       "      <th>34</th>\n",
       "      <td>Assam</td>\n",
       "      <td>AoW</td>\n",
       "      <td>47115</td>\n",
       "    </tr>\n",
       "    <tr>\n",
       "      <th>35</th>\n",
       "      <td>West Bengal</td>\n",
       "      <td>AoW</td>\n",
       "      <td>51014</td>\n",
       "    </tr>\n",
       "    <tr>\n",
       "      <th>36</th>\n",
       "      <td>Chhattisgarh</td>\n",
       "      <td>AoW</td>\n",
       "      <td>33310</td>\n",
       "    </tr>\n",
       "    <tr>\n",
       "      <th>37</th>\n",
       "      <td>Odisha</td>\n",
       "      <td>AoW</td>\n",
       "      <td>83473</td>\n",
       "    </tr>\n",
       "    <tr>\n",
       "      <th>38</th>\n",
       "      <td>Kerala</td>\n",
       "      <td>AoW</td>\n",
       "      <td>69081</td>\n",
       "    </tr>\n",
       "    <tr>\n",
       "      <th>39</th>\n",
       "      <td>Andhra Pradesh</td>\n",
       "      <td>AoW</td>\n",
       "      <td>92084</td>\n",
       "    </tr>\n",
       "    <tr>\n",
       "      <th>40</th>\n",
       "      <td>Madhya Pradesh</td>\n",
       "      <td>AoM</td>\n",
       "      <td>21631</td>\n",
       "    </tr>\n",
       "    <tr>\n",
       "      <th>41</th>\n",
       "      <td>Uttar Pradesh</td>\n",
       "      <td>AoM</td>\n",
       "      <td>46524</td>\n",
       "    </tr>\n",
       "    <tr>\n",
       "      <th>42</th>\n",
       "      <td>Rajasthan</td>\n",
       "      <td>AoM</td>\n",
       "      <td>2365</td>\n",
       "    </tr>\n",
       "    <tr>\n",
       "      <th>43</th>\n",
       "      <td>Maharashtra</td>\n",
       "      <td>AoM</td>\n",
       "      <td>30693</td>\n",
       "    </tr>\n",
       "    <tr>\n",
       "      <th>44</th>\n",
       "      <td>Assam</td>\n",
       "      <td>AoM</td>\n",
       "      <td>2698</td>\n",
       "    </tr>\n",
       "    <tr>\n",
       "      <th>45</th>\n",
       "      <td>West Bengal</td>\n",
       "      <td>AoM</td>\n",
       "      <td>5750</td>\n",
       "    </tr>\n",
       "    <tr>\n",
       "      <th>46</th>\n",
       "      <td>Chhattisgarh</td>\n",
       "      <td>AoM</td>\n",
       "      <td>4382</td>\n",
       "    </tr>\n",
       "    <tr>\n",
       "      <th>47</th>\n",
       "      <td>Odisha</td>\n",
       "      <td>AoM</td>\n",
       "      <td>7631</td>\n",
       "    </tr>\n",
       "    <tr>\n",
       "      <th>48</th>\n",
       "      <td>Kerala</td>\n",
       "      <td>AoM</td>\n",
       "      <td>8873</td>\n",
       "    </tr>\n",
       "    <tr>\n",
       "      <th>49</th>\n",
       "      <td>Andhra Pradesh</td>\n",
       "      <td>AoM</td>\n",
       "      <td>54684</td>\n",
       "    </tr>\n",
       "    <tr>\n",
       "      <th>50</th>\n",
       "      <td>Madhya Pradesh</td>\n",
       "      <td>DV</td>\n",
       "      <td>95521</td>\n",
       "    </tr>\n",
       "    <tr>\n",
       "      <th>51</th>\n",
       "      <td>Uttar Pradesh</td>\n",
       "      <td>DV</td>\n",
       "      <td>163062</td>\n",
       "    </tr>\n",
       "    <tr>\n",
       "      <th>52</th>\n",
       "      <td>Rajasthan</td>\n",
       "      <td>DV</td>\n",
       "      <td>201488</td>\n",
       "    </tr>\n",
       "    <tr>\n",
       "      <th>53</th>\n",
       "      <td>Maharashtra</td>\n",
       "      <td>DV</td>\n",
       "      <td>133357</td>\n",
       "    </tr>\n",
       "    <tr>\n",
       "      <th>54</th>\n",
       "      <td>Assam</td>\n",
       "      <td>DV</td>\n",
       "      <td>135415</td>\n",
       "    </tr>\n",
       "    <tr>\n",
       "      <th>55</th>\n",
       "      <td>West Bengal</td>\n",
       "      <td>DV</td>\n",
       "      <td>262235</td>\n",
       "    </tr>\n",
       "    <tr>\n",
       "      <th>56</th>\n",
       "      <td>Chhattisgarh</td>\n",
       "      <td>DV</td>\n",
       "      <td>16381</td>\n",
       "    </tr>\n",
       "    <tr>\n",
       "      <th>57</th>\n",
       "      <td>Odisha</td>\n",
       "      <td>DV</td>\n",
       "      <td>41222</td>\n",
       "    </tr>\n",
       "    <tr>\n",
       "      <th>58</th>\n",
       "      <td>Kerala</td>\n",
       "      <td>DV</td>\n",
       "      <td>84277</td>\n",
       "    </tr>\n",
       "    <tr>\n",
       "      <th>59</th>\n",
       "      <td>Andhra Pradesh</td>\n",
       "      <td>DV</td>\n",
       "      <td>188511</td>\n",
       "    </tr>\n",
       "    <tr>\n",
       "      <th>60</th>\n",
       "      <td>Madhya Pradesh</td>\n",
       "      <td>WT</td>\n",
       "      <td>396</td>\n",
       "    </tr>\n",
       "    <tr>\n",
       "      <th>61</th>\n",
       "      <td>Uttar Pradesh</td>\n",
       "      <td>WT</td>\n",
       "      <td>333</td>\n",
       "    </tr>\n",
       "    <tr>\n",
       "      <th>62</th>\n",
       "      <td>Rajasthan</td>\n",
       "      <td>WT</td>\n",
       "      <td>668</td>\n",
       "    </tr>\n",
       "    <tr>\n",
       "      <th>63</th>\n",
       "      <td>Maharashtra</td>\n",
       "      <td>WT</td>\n",
       "      <td>2533</td>\n",
       "    </tr>\n",
       "    <tr>\n",
       "      <th>64</th>\n",
       "      <td>Assam</td>\n",
       "      <td>WT</td>\n",
       "      <td>343</td>\n",
       "    </tr>\n",
       "    <tr>\n",
       "      <th>65</th>\n",
       "      <td>West Bengal</td>\n",
       "      <td>WT</td>\n",
       "      <td>940</td>\n",
       "    </tr>\n",
       "    <tr>\n",
       "      <th>66</th>\n",
       "      <td>Chhattisgarh</td>\n",
       "      <td>WT</td>\n",
       "      <td>103</td>\n",
       "    </tr>\n",
       "    <tr>\n",
       "      <th>67</th>\n",
       "      <td>Odisha</td>\n",
       "      <td>WT</td>\n",
       "      <td>270</td>\n",
       "    </tr>\n",
       "    <tr>\n",
       "      <th>68</th>\n",
       "      <td>Kerala</td>\n",
       "      <td>WT</td>\n",
       "      <td>990</td>\n",
       "    </tr>\n",
       "    <tr>\n",
       "      <th>69</th>\n",
       "      <td>Andhra Pradesh</td>\n",
       "      <td>WT</td>\n",
       "      <td>2548</td>\n",
       "    </tr>\n",
       "  </tbody>\n",
       "</table>\n",
       "</div>"
      ],
      "text/plain": [
       "             State Crime Type  Number of Crimes\n",
       "0   Madhya Pradesh       Rape             72808\n",
       "1    Uttar Pradesh       Rape             45694\n",
       "2        Rajasthan       Rape             43799\n",
       "3      Maharashtra       Rape             39252\n",
       "4            Assam       Rape             32190\n",
       "5      West Bengal       Rape             29486\n",
       "6     Chhattisgarh       Rape             25178\n",
       "7           Odisha       Rape             24810\n",
       "8           Kerala       Rape             24184\n",
       "9   Andhra Pradesh       Rape             23424\n",
       "10  Madhya Pradesh        K&A             57485\n",
       "11   Uttar Pradesh        K&A            133856\n",
       "12       Rajasthan        K&A             55320\n",
       "13     Maharashtra        K&A             46522\n",
       "14           Assam        K&A             71462\n",
       "15     West Bengal        K&A             51742\n",
       "16    Chhattisgarh        K&A             16536\n",
       "17          Odisha        K&A             29847\n",
       "18          Kerala        K&A             14056\n",
       "19  Andhra Pradesh        K&A             21707\n",
       "20  Madhya Pradesh         DD             13316\n",
       "21   Uttar Pradesh         DD             40615\n",
       "22       Rajasthan         DD              7769\n",
       "23     Maharashtra         DD              5756\n",
       "24           Assam         DD              2757\n",
       "25     West Bengal         DD              8075\n",
       "26    Chhattisgarh         DD              1797\n",
       "27          Odisha         DD              7521\n",
       "28          Kerala         DD              1525\n",
       "29  Andhra Pradesh         DD              8165\n",
       "30  Madhya Pradesh        AoW            152000\n",
       "31   Uttar Pradesh        AoW             99650\n",
       "32       Rajasthan        AoW             67855\n",
       "33     Maharashtra        AoW            107519\n",
       "34           Assam        AoW             47115\n",
       "35     West Bengal        AoW             51014\n",
       "36    Chhattisgarh        AoW             33310\n",
       "37          Odisha        AoW             83473\n",
       "38          Kerala        AoW             69081\n",
       "39  Andhra Pradesh        AoW             92084\n",
       "40  Madhya Pradesh        AoM             21631\n",
       "41   Uttar Pradesh        AoM             46524\n",
       "42       Rajasthan        AoM              2365\n",
       "43     Maharashtra        AoM             30693\n",
       "44           Assam        AoM              2698\n",
       "45     West Bengal        AoM              5750\n",
       "46    Chhattisgarh        AoM              4382\n",
       "47          Odisha        AoM              7631\n",
       "48          Kerala        AoM              8873\n",
       "49  Andhra Pradesh        AoM             54684\n",
       "50  Madhya Pradesh         DV             95521\n",
       "51   Uttar Pradesh         DV            163062\n",
       "52       Rajasthan         DV            201488\n",
       "53     Maharashtra         DV            133357\n",
       "54           Assam         DV            135415\n",
       "55     West Bengal         DV            262235\n",
       "56    Chhattisgarh         DV             16381\n",
       "57          Odisha         DV             41222\n",
       "58          Kerala         DV             84277\n",
       "59  Andhra Pradesh         DV            188511\n",
       "60  Madhya Pradesh         WT               396\n",
       "61   Uttar Pradesh         WT               333\n",
       "62       Rajasthan         WT               668\n",
       "63     Maharashtra         WT              2533\n",
       "64           Assam         WT               343\n",
       "65     West Bengal         WT               940\n",
       "66    Chhattisgarh         WT               103\n",
       "67          Odisha         WT               270\n",
       "68          Kerala         WT               990\n",
       "69  Andhra Pradesh         WT              2548"
      ]
     },
     "execution_count": 114,
     "metadata": {},
     "output_type": "execute_result"
    }
   ],
   "source": [
    "melted = statewise_crimetypesum.melt(id_vars='State', \n",
    "                                        value_vars=['Rape', 'K&A', 'DD', \n",
    "                                                    'AoW', 'AoM', \n",
    "                                                    'DV', 'WT'],\n",
    "                                        var_name='Crime Type', \n",
    "                                        value_name='Number of Crimes')\n",
    "melted"
   ]
  },
  {
   "cell_type": "code",
   "execution_count": 132,
   "id": "c4a91374",
   "metadata": {},
   "outputs": [
    {
     "data": {
      "image/png": "[encoded data removed]",
      "text/plain": [
       "<Figure size 1008x432 with 1 Axes>"
      ]
     },
     "metadata": {
      "needs_background": "light"
     },
     "output_type": "display_data"
    }
   ],
   "source": [
    "plt.figure(figsize=(14, 6))\n",
    "sns.barplot(x='State', y='Number of Crimes', hue='Crime Type', data=melted, palette='Paired')\n",
    "plt.title('Crime Categories Across Top 10 States')\n",
    "plt.xlabel('States')\n",
    "plt.ylabel('Number of Crimes')\n",
    "plt.xticks(rotation=45)\n",
    "plt.show();\n"
   ]
  },
  {
   "cell_type": "code",
   "execution_count": 134,
   "id": "b6409fec",
   "metadata": {},
   "outputs": [
    {
     "data": {
      "image/png": "[encoded data removed]",
      "text/plain": [
       "<Figure size 432x288 with 1 Axes>"
      ]
     },
     "metadata": {
      "needs_background": "light"
     },
     "output_type": "display_data"
    }
   ],
   "source": [
    "sns.scatterplot(x='AoW',y='AoM',color='red',data=data)\n",
    "plt.suptitle('Joint Analysis of Age Distribution: Women vs. Men',y=1.03)\n",
    "plt.show();"
   ]
  },
  {
   "cell_type": "code",
   "execution_count": 27,
   "id": "0d2d25f6",
   "metadata": {},
   "outputs": [
    {
     "data": {
      "image/png": "[encoded data removed]",
      "text/plain": [
       "<Figure size 720x432 with 2 Axes>"
      ]
     },
     "metadata": {
      "needs_background": "light"
     },
     "output_type": "display_data"
    }
   ],
   "source": [
    "corr = data_cleaned.corr()\n",
    "mask_ut = np.triu(np.ones(corr.shape)).astype(np.bool_)\n",
    "\n",
    "plt.figure(figsize=(10,6))\n",
    "sns.heatmap(corr, annot=True, fmt=\".2f\", cmap=\"icefire\", mask=mask_ut)\n",
    "plt.title(\"Correlation Matrix\")\n",
    "plt.tight_layout()\n",
    "plt.show()"
   ]
  },
  {
   "cell_type": "code",
   "execution_count": null,
   "id": "d31bbc56",
   "metadata": {},
   "outputs": [],
   "source": []
  },
  {
   "cell_type": "markdown",
   "id": "622a6beb",
   "metadata": {},
   "source": [
    "# Clustering"
   ]
  },
  {
   "cell_type": "code",
   "execution_count": 28,
   "id": "26bad67f",
   "metadata": {},
   "outputs": [
    {
     "data": {
      "text/html": [
       "        <script type=\"text/javascript\">\n",
       "        window.PlotlyConfig = {MathJaxConfig: 'local'};\n",
       "        if (window.MathJax) {MathJax.Hub.Config({SVG: {font: \"STIX-Web\"}});}\n",
       "        if (typeof require !== 'undefined') {\n",
       "        require.undef(\"plotly\");\n",
       "        requirejs.config({\n",
       "            paths: {\n",
       "                'plotly': ['https://cdn.plot.ly/plotly-2.9.0.min']\n",
       "            }\n",
       "        });\n",
       "        require(['plotly'], function(Plotly) {\n",
       "            window._Plotly = Plotly;\n",
       "        });\n",
       "        }\n",
       "        </script>\n",
       "        "
      ]
     },
     "metadata": {},
     "output_type": "display_data"
    }
   ],
   "source": [
    "from sklearn.cluster import KMeans\n",
    "from sklearn.metrics import silhouette_score\n",
    "from sklearn.preprocessing import StandardScaler\n",
    "from joblib import Parallel, delayed\n",
    "import gc\n",
    "\n",
    "import ipywidgets as widgets\n",
    "from IPython.display import display, display_markdown\n",
    "pd.options.display.max_columns = None\n",
    "pd.options.display.max_rows = None\n",
    "from IPython.core.interactiveshell import InteractiveShell\n",
    "InteractiveShell.ast_node_interactivity = \"all\"\n",
    "from plotly.offline import init_notebook_mode\n",
    "init_notebook_mode(connected=True)\n",
    "\n",
    "import warnings\n",
    "warnings.filterwarnings('ignore')\n"
   ]
  },
  {
   "cell_type": "code",
   "execution_count": 29,
   "id": "b2531cdd",
   "metadata": {},
   "outputs": [],
   "source": [
    "def kMeansRes(scaled_data, k, alpha_k=0.02):\n",
    "    \n",
    "    inertia_o = np.square((scaled_data - scaled_data.mean(axis=0))).sum()\n",
    "    # fit k-means\n",
    "    kmeans = KMeans(n_clusters=k, random_state=0, n_init=10).fit(scaled_data)\n",
    "    scaled_inertia = kmeans.inertia_ / inertia_o + alpha_k * k\n",
    "    return scaled_inertia"
   ]
  },
  {
   "cell_type": "code",
   "execution_count": 30,
   "id": "32b1499c",
   "metadata": {},
   "outputs": [],
   "source": [
    "def chooseBestKforKMeansParallel(scaled_data, k_range):\n",
    "    \n",
    "    ans = Parallel(n_jobs=-1,verbose=10)(delayed(kMeansRes)(scaled_data, k) for k in k_range)\n",
    "    ans = list(zip(k_range,ans))\n",
    "    results = pd.DataFrame(ans, columns = ['k','Scaled Inertia']).set_index('k')\n",
    "    best_k = results.idxmin()[0]\n",
    "    return best_k, results"
   ]
  },
  {
   "cell_type": "code",
   "execution_count": 31,
   "id": "ae8fec9c",
   "metadata": {},
   "outputs": [
    {
     "data": {
      "text/html": [
       "<div>\n",
       "<style scoped>\n",
       "    .dataframe tbody tr th:only-of-type {\n",
       "        vertical-align: middle;\n",
       "    }\n",
       "\n",
       "    .dataframe tbody tr th {\n",
       "        vertical-align: top;\n",
       "    }\n",
       "\n",
       "    .dataframe thead th {\n",
       "        text-align: right;\n",
       "    }\n",
       "</style>\n",
       "<table border=\"1\" class=\"dataframe\">\n",
       "  <thead>\n",
       "    <tr style=\"text-align: right;\">\n",
       "      <th></th>\n",
       "      <th>Unnamed: 0</th>\n",
       "      <th>State</th>\n",
       "      <th>Year</th>\n",
       "      <th>Rape</th>\n",
       "      <th>K&amp;A</th>\n",
       "      <th>DD</th>\n",
       "      <th>AoW</th>\n",
       "      <th>AoM</th>\n",
       "      <th>DV</th>\n",
       "      <th>WT</th>\n",
       "    </tr>\n",
       "  </thead>\n",
       "  <tbody>\n",
       "    <tr>\n",
       "      <th>0</th>\n",
       "      <td>0</td>\n",
       "      <td>ANDHRA PRADESH</td>\n",
       "      <td>2001</td>\n",
       "      <td>871</td>\n",
       "      <td>765</td>\n",
       "      <td>420</td>\n",
       "      <td>3544</td>\n",
       "      <td>2271</td>\n",
       "      <td>5791</td>\n",
       "      <td>7</td>\n",
       "    </tr>\n",
       "    <tr>\n",
       "      <th>1</th>\n",
       "      <td>1</td>\n",
       "      <td>ARUNACHAL PRADESH</td>\n",
       "      <td>2001</td>\n",
       "      <td>33</td>\n",
       "      <td>55</td>\n",
       "      <td>0</td>\n",
       "      <td>78</td>\n",
       "      <td>3</td>\n",
       "      <td>11</td>\n",
       "      <td>0</td>\n",
       "    </tr>\n",
       "    <tr>\n",
       "      <th>2</th>\n",
       "      <td>2</td>\n",
       "      <td>ASSAM</td>\n",
       "      <td>2001</td>\n",
       "      <td>817</td>\n",
       "      <td>1070</td>\n",
       "      <td>59</td>\n",
       "      <td>850</td>\n",
       "      <td>4</td>\n",
       "      <td>1248</td>\n",
       "      <td>0</td>\n",
       "    </tr>\n",
       "    <tr>\n",
       "      <th>3</th>\n",
       "      <td>3</td>\n",
       "      <td>BIHAR</td>\n",
       "      <td>2001</td>\n",
       "      <td>888</td>\n",
       "      <td>518</td>\n",
       "      <td>859</td>\n",
       "      <td>562</td>\n",
       "      <td>21</td>\n",
       "      <td>1558</td>\n",
       "      <td>83</td>\n",
       "    </tr>\n",
       "    <tr>\n",
       "      <th>4</th>\n",
       "      <td>4</td>\n",
       "      <td>CHHATTISGARH</td>\n",
       "      <td>2001</td>\n",
       "      <td>959</td>\n",
       "      <td>171</td>\n",
       "      <td>70</td>\n",
       "      <td>1763</td>\n",
       "      <td>161</td>\n",
       "      <td>840</td>\n",
       "      <td>0</td>\n",
       "    </tr>\n",
       "  </tbody>\n",
       "</table>\n",
       "</div>"
      ],
      "text/plain": [
       "   Unnamed: 0              State  Year  Rape   K&A   DD   AoW   AoM    DV  WT\n",
       "0           0     ANDHRA PRADESH  2001   871   765  420  3544  2271  5791   7\n",
       "1           1  ARUNACHAL PRADESH  2001    33    55    0    78     3    11   0\n",
       "2           2              ASSAM  2001   817  1070   59   850     4  1248   0\n",
       "3           3              BIHAR  2001   888   518  859   562    21  1558  83\n",
       "4           4       CHHATTISGARH  2001   959   171   70  1763   161   840   0"
      ]
     },
     "execution_count": 31,
     "metadata": {},
     "output_type": "execute_result"
    }
   ],
   "source": [
    "data.head()"
   ]
  },
  {
   "cell_type": "code",
   "execution_count": 32,
   "id": "7d75eb49",
   "metadata": {},
   "outputs": [],
   "source": [
    "data.State = list(map(str.title, data.State))"
   ]
  },
  {
   "cell_type": "code",
   "execution_count": 33,
   "id": "561f0c71",
   "metadata": {},
   "outputs": [],
   "source": [
    "options = list(data.State.unique())\n",
    "dropdown = widgets.Dropdown(\n",
    "    options=options,\n",
    "    value=options[0],\n",
    "    description='Select State'\n",
    ")\n",
    "def on_change(change):\n",
    "    print(f'Selected value: {change[\"new\"]}')\n",
    "dropdown.observe(on_change, names='value')"
   ]
  },
  {
   "cell_type": "code",
   "execution_count": 34,
   "id": "6327c978",
   "metadata": {},
   "outputs": [
    {
     "data": {
      "application/vnd.jupyter.widget-view+json": {
       "model_id": "aff83e242c3f4835a163c6dbdd288944",
       "version_major": 2,
       "version_minor": 0
      },
      "text/plain": [
       "Dropdown(description='Select State', options=('Andhra Pradesh', 'Arunachal Pradesh', 'Assam', 'Bihar', 'Chhatt…"
      ]
     },
     "metadata": {},
     "output_type": "display_data"
    }
   ],
   "source": [
    "display(dropdown)"
   ]
  },
  {
   "cell_type": "code",
   "execution_count": 1,
   "id": "9dd99fc8",
   "metadata": {},
   "outputs": [
    {
     "ename": "NameError",
     "evalue": "name 'px' is not defined",
     "output_type": "error",
     "traceback": [
      "\u001b[1;31m---------------------------------------------------------------------------\u001b[0m",
      "\u001b[1;31mNameError\u001b[0m                                 Traceback (most recent call last)",
      "Cell \u001b[1;32mIn[1], line 1\u001b[0m\n\u001b[1;32m----> 1\u001b[0m fig \u001b[38;5;241m=\u001b[39m px\u001b[38;5;241m.\u001b[39mline(data_frame\u001b[38;5;241m=\u001b[39mdata[data[\u001b[38;5;124m'\u001b[39m\u001b[38;5;124mState\u001b[39m\u001b[38;5;124m'\u001b[39m]\u001b[38;5;241m==\u001b[39mdropdown\u001b[38;5;241m.\u001b[39mvalue], \n\u001b[0;32m      2\u001b[0m               x \u001b[38;5;241m=\u001b[39m \u001b[38;5;124m\"\u001b[39m\u001b[38;5;124mYear\u001b[39m\u001b[38;5;124m\"\u001b[39m, \n\u001b[0;32m      3\u001b[0m               y \u001b[38;5;241m=\u001b[39m [\u001b[38;5;124m'\u001b[39m\u001b[38;5;124mRape\u001b[39m\u001b[38;5;124m'\u001b[39m, \u001b[38;5;124m'\u001b[39m\u001b[38;5;124mK&A\u001b[39m\u001b[38;5;124m'\u001b[39m, \u001b[38;5;124m'\u001b[39m\u001b[38;5;124mDD\u001b[39m\u001b[38;5;124m'\u001b[39m, \u001b[38;5;124m'\u001b[39m\u001b[38;5;124mAoW\u001b[39m\u001b[38;5;124m'\u001b[39m, \u001b[38;5;124m'\u001b[39m\u001b[38;5;124mAoM\u001b[39m\u001b[38;5;124m'\u001b[39m, \u001b[38;5;124m'\u001b[39m\u001b[38;5;124mDV\u001b[39m\u001b[38;5;124m'\u001b[39m, \u001b[38;5;124m'\u001b[39m\u001b[38;5;124mWT\u001b[39m\u001b[38;5;124m'\u001b[39m],\n\u001b[0;32m      4\u001b[0m              title\u001b[38;5;241m=\u001b[39m\u001b[38;5;124mf\u001b[39m\u001b[38;5;124m\"\u001b[39m\u001b[38;5;124mYear-Wise trend of crimes in \u001b[39m\u001b[38;5;132;01m{\u001b[39;00mdropdown\u001b[38;5;241m.\u001b[39mvalue\u001b[38;5;132;01m}\u001b[39;00m\u001b[38;5;124m\"\u001b[39m,\n\u001b[0;32m      5\u001b[0m              width\u001b[38;5;241m=\u001b[39m\u001b[38;5;241m700\u001b[39m,\n\u001b[0;32m      6\u001b[0m              height\u001b[38;5;241m=\u001b[39m\u001b[38;5;241m300\u001b[39m,\n\u001b[0;32m      7\u001b[0m              markers\u001b[38;5;241m=\u001b[39m\u001b[38;5;28;01mTrue\u001b[39;00m)\n\u001b[0;32m      8\u001b[0m fig\u001b[38;5;241m.\u001b[39mupdate_layout(\n\u001b[0;32m      9\u001b[0m     legend\u001b[38;5;241m=\u001b[39m{\n\u001b[0;32m     10\u001b[0m         \u001b[38;5;124m\"\u001b[39m\u001b[38;5;124morientation\u001b[39m\u001b[38;5;124m\"\u001b[39m : \u001b[38;5;124m\"\u001b[39m\u001b[38;5;124mh\u001b[39m\u001b[38;5;124m\"\u001b[39m,\n\u001b[1;32m   (...)\u001b[0m\n\u001b[0;32m     20\u001b[0m     }\n\u001b[0;32m     21\u001b[0m                  );\n\u001b[0;32m     22\u001b[0m fig\u001b[38;5;241m.\u001b[39mshow()\n",
      "\u001b[1;31mNameError\u001b[0m: name 'px' is not defined"
     ]
    }
   ],
   "source": [
    "fig = px.line(data_frame=data[data['State']==dropdown.value], \n",
    "              x = \"Year\", \n",
    "              y = ['Rape', 'K&A', 'DD', 'AoW', 'AoM', 'DV', 'WT'],\n",
    "             title=f\"Year-Wise trend of crimes in {dropdown.value}\",\n",
    "             width=700,\n",
    "             height=300,\n",
    "             markers=True)\n",
    "fig.update_layout(\n",
    "    legend={\n",
    "        \"orientation\" : \"h\",\n",
    "        \"yanchor\" : \"bottom\",\n",
    "        \"itemwidth\" : 70,\n",
    "        \"y\" : 1.02,\n",
    "        \"xanchor\" : \"right\",\n",
    "        \"x\" : 1\n",
    "    },\n",
    "    title={\n",
    "        'x':0.5,\n",
    "        'xanchor': 'center'\n",
    "    }\n",
    "                 );\n",
    "fig.show();"
   ]
  },
  {
   "cell_type": "code",
   "execution_count": 36,
   "id": "fed64fea",
   "metadata": {},
   "outputs": [],
   "source": [
    "options = list(data.Year.unique())\n",
    "dropdown_year = widgets.Dropdown(\n",
    "    options=options,\n",
    "    value=options[0],\n",
    "    description='Select Year'\n",
    ")\n",
    "def on_change(change):\n",
    "    print(f'Selected value: {change[\"new\"]}')\n",
    "dropdown.observe(on_change, names='value')"
   ]
  },
  {
   "cell_type": "code",
   "execution_count": 37,
   "id": "9db0ef44",
   "metadata": {},
   "outputs": [],
   "source": [
    "year = dropdown_year.value\n",
    "dt = data[data['Year']==year]\n",
    "states = dt.State\n",
    "arr = np.asarray(dt)[:, 2:]\n",
    "scaler = StandardScaler()\n",
    "scaled_features = scaler.fit_transform(arr)"
   ]
  },
  {
   "cell_type": "code",
   "execution_count": 38,
   "id": "fe6a9241",
   "metadata": {},
   "outputs": [
    {
     "name": "stderr",
     "output_type": "stream",
     "text": [
      "[Parallel(n_jobs=-1)]: Using backend LokyBackend with 4 concurrent workers.\n",
      "[Parallel(n_jobs=-1)]: Done   5 tasks      | elapsed:    5.4s\n",
      "[Parallel(n_jobs=-1)]: Done  10 tasks      | elapsed:    6.1s\n",
      "[Parallel(n_jobs=-1)]: Done  13 out of  18 | elapsed:    6.2s remaining:    2.3s\n",
      "[Parallel(n_jobs=-1)]: Done  15 out of  18 | elapsed:    6.3s remaining:    1.2s\n",
      "[Parallel(n_jobs=-1)]: Done  18 out of  18 | elapsed:    6.9s finished\n"
     ]
    }
   ],
   "source": [
    "k_range=range(2,20)\n",
    "# compute adjusted intertia\n",
    "best_k, results = chooseBestKforKMeansParallel(scaled_features, k_range)"
   ]
  },
  {
   "cell_type": "code",
   "execution_count": 39,
   "id": "4954fcc7",
   "metadata": {},
   "outputs": [
    {
     "data": {
      "application/vnd.plotly.v1+json": {
       "config": {
        "plotlyServerURL": "https://plot.ly"
       },
       "data": [
        {
         "hovertemplate": "variable=Scaled Inertia<br>k=%{x}<br>value=%{y}<extra></extra>",
         "legendgroup": "Scaled Inertia",
         "line": {
          "color": "#636efa",
          "dash": "solid"
         },
         "marker": {
          "symbol": "circle"
         },
         "mode": "markers+lines",
         "name": "Scaled Inertia",
         "orientation": "v",
         "showlegend": true,
         "type": "scatter",
         "x": [
          2,
          3,
          4,
          5,
          6,
          7,
          8,
          9,
          10,
          11,
          12,
          13,
          14,
          15,
          16,
          17,
          18,
          19
         ],
         "xaxis": "x",
         "y": [
          0.568055046405617,
          0.4286466960624062,
          0.3224323391133719,
          0.26860569277777785,
          0.22648342743983105,
          0.209169430713741,
          0.21337681325998506,
          0.22350437051247232,
          0.23111996877967592,
          0.2415883556538702,
          0.25563059584827696,
          0.2713384228258746,
          0.2886237500196892,
          0.30681506703893424,
          0.32500478752195977,
          0.34337310180549346,
          0.36191689617857553,
          0.3811973383546499
         ],
         "yaxis": "y"
        }
       ],
       "layout": {
        "legend": {
         "title": {
          "text": "variable"
         },
         "tracegroupgap": 0
        },
        "showlegend": false,
        "template": {
         "data": {
          "bar": [
           {
            "error_x": {
             "color": "#2a3f5f"
            },
            "error_y": {
             "color": "#2a3f5f"
            },
            "marker": {
             "line": {
              "color": "#E5ECF6",
              "width": 0.5
             },
             "pattern": {
              "fillmode": "overlay",
              "size": 10,
              "solidity": 0.2
             }
            },
            "type": "bar"
           }
          ],
          "barpolar": [
           {
            "marker": {
             "line": {
              "color": "#E5ECF6",
              "width": 0.5
             },
             "pattern": {
              "fillmode": "overlay",
              "size": 10,
              "solidity": 0.2
             }
            },
            "type": "barpolar"
           }
          ],
          "carpet": [
           {
            "aaxis": {
             "endlinecolor": "#2a3f5f",
             "gridcolor": "white",
             "linecolor": "white",
             "minorgridcolor": "white",
             "startlinecolor": "#2a3f5f"
            },
            "baxis": {
             "endlinecolor": "#2a3f5f",
             "gridcolor": "white",
             "linecolor": "white",
             "minorgridcolor": "white",
             "startlinecolor": "#2a3f5f"
            },
            "type": "carpet"
           }
          ],
          "choropleth": [
           {
            "colorbar": {
             "outlinewidth": 0,
             "ticks": ""
            },
            "type": "choropleth"
           }
          ],
          "contour": [
           {
            "colorbar": {
             "outlinewidth": 0,
             "ticks": ""
            },
            "colorscale": [
             [
              0,
              "#0d0887"
             ],
             [
              0.1111111111111111,
              "#46039f"
             ],
             [
              0.2222222222222222,
              "#7201a8"
             ],
             [
              0.3333333333333333,
              "#9c179e"
             ],
             [
              0.4444444444444444,
              "#bd3786"
             ],
             [
              0.5555555555555556,
              "#d8576b"
             ],
             [
              0.6666666666666666,
              "#ed7953"
             ],
             [
              0.7777777777777778,
              "#fb9f3a"
             ],
             [
              0.8888888888888888,
              "#fdca26"
             ],
             [
              1,
              "#f0f921"
             ]
            ],
            "type": "contour"
           }
          ],
          "contourcarpet": [
           {
            "colorbar": {
             "outlinewidth": 0,
             "ticks": ""
            },
            "type": "contourcarpet"
           }
          ],
          "heatmap": [
           {
            "colorbar": {
             "outlinewidth": 0,
             "ticks": ""
            },
            "colorscale": [
             [
              0,
              "#0d0887"
             ],
             [
              0.1111111111111111,
              "#46039f"
             ],
             [
              0.2222222222222222,
              "#7201a8"
             ],
             [
              0.3333333333333333,
              "#9c179e"
             ],
             [
              0.4444444444444444,
              "#bd3786"
             ],
             [
              0.5555555555555556,
              "#d8576b"
             ],
             [
              0.6666666666666666,
              "#ed7953"
             ],
             [
              0.7777777777777778,
              "#fb9f3a"
             ],
             [
              0.8888888888888888,
              "#fdca26"
             ],
             [
              1,
              "#f0f921"
             ]
            ],
            "type": "heatmap"
           }
          ],
          "heatmapgl": [
           {
            "colorbar": {
             "outlinewidth": 0,
             "ticks": ""
            },
            "colorscale": [
             [
              0,
              "#0d0887"
             ],
             [
              0.1111111111111111,
              "#46039f"
             ],
             [
              0.2222222222222222,
              "#7201a8"
             ],
             [
              0.3333333333333333,
              "#9c179e"
             ],
             [
              0.4444444444444444,
              "#bd3786"
             ],
             [
              0.5555555555555556,
              "#d8576b"
             ],
             [
              0.6666666666666666,
              "#ed7953"
             ],
             [
              0.7777777777777778,
              "#fb9f3a"
             ],
             [
              0.8888888888888888,
              "#fdca26"
             ],
             [
              1,
              "#f0f921"
             ]
            ],
            "type": "heatmapgl"
           }
          ],
          "histogram": [
           {
            "marker": {
             "pattern": {
              "fillmode": "overlay",
              "size": 10,
              "solidity": 0.2
             }
            },
            "type": "histogram"
           }
          ],
          "histogram2d": [
           {
            "colorbar": {
             "outlinewidth": 0,
             "ticks": ""
            },
            "colorscale": [
             [
              0,
              "#0d0887"
             ],
             [
              0.1111111111111111,
              "#46039f"
             ],
             [
              0.2222222222222222,
              "#7201a8"
             ],
             [
              0.3333333333333333,
              "#9c179e"
             ],
             [
              0.4444444444444444,
              "#bd3786"
             ],
             [
              0.5555555555555556,
              "#d8576b"
             ],
             [
              0.6666666666666666,
              "#ed7953"
             ],
             [
              0.7777777777777778,
              "#fb9f3a"
             ],
             [
              0.8888888888888888,
              "#fdca26"
             ],
             [
              1,
              "#f0f921"
             ]
            ],
            "type": "histogram2d"
           }
          ],
          "histogram2dcontour": [
           {
            "colorbar": {
             "outlinewidth": 0,
             "ticks": ""
            },
            "colorscale": [
             [
              0,
              "#0d0887"
             ],
             [
              0.1111111111111111,
              "#46039f"
             ],
             [
              0.2222222222222222,
              "#7201a8"
             ],
             [
              0.3333333333333333,
              "#9c179e"
             ],
             [
              0.4444444444444444,
              "#bd3786"
             ],
             [
              0.5555555555555556,
              "#d8576b"
             ],
             [
              0.6666666666666666,
              "#ed7953"
             ],
             [
              0.7777777777777778,
              "#fb9f3a"
             ],
             [
              0.8888888888888888,
              "#fdca26"
             ],
             [
              1,
              "#f0f921"
             ]
            ],
            "type": "histogram2dcontour"
           }
          ],
          "mesh3d": [
           {
            "colorbar": {
             "outlinewidth": 0,
             "ticks": ""
            },
            "type": "mesh3d"
           }
          ],
          "parcoords": [
           {
            "line": {
             "colorbar": {
              "outlinewidth": 0,
              "ticks": ""
             }
            },
            "type": "parcoords"
           }
          ],
          "pie": [
           {
            "automargin": true,
            "type": "pie"
           }
          ],
          "scatter": [
           {
            "marker": {
             "colorbar": {
              "outlinewidth": 0,
              "ticks": ""
             }
            },
            "type": "scatter"
           }
          ],
          "scatter3d": [
           {
            "line": {
             "colorbar": {
              "outlinewidth": 0,
              "ticks": ""
             }
            },
            "marker": {
             "colorbar": {
              "outlinewidth": 0,
              "ticks": ""
             }
            },
            "type": "scatter3d"
           }
          ],
          "scattercarpet": [
           {
            "marker": {
             "colorbar": {
              "outlinewidth": 0,
              "ticks": ""
             }
            },
            "type": "scattercarpet"
           }
          ],
          "scattergeo": [
           {
            "marker": {
             "colorbar": {
              "outlinewidth": 0,
              "ticks": ""
             }
            },
            "type": "scattergeo"
           }
          ],
          "scattergl": [
           {
            "marker": {
             "colorbar": {
              "outlinewidth": 0,
              "ticks": ""
             }
            },
            "type": "scattergl"
           }
          ],
          "scattermapbox": [
           {
            "marker": {
             "colorbar": {
              "outlinewidth": 0,
              "ticks": ""
             }
            },
            "type": "scattermapbox"
           }
          ],
          "scatterpolar": [
           {
            "marker": {
             "colorbar": {
              "outlinewidth": 0,
              "ticks": ""
             }
            },
            "type": "scatterpolar"
           }
          ],
          "scatterpolargl": [
           {
            "marker": {
             "colorbar": {
              "outlinewidth": 0,
              "ticks": ""
             }
            },
            "type": "scatterpolargl"
           }
          ],
          "scatterternary": [
           {
            "marker": {
             "colorbar": {
              "outlinewidth": 0,
              "ticks": ""
             }
            },
            "type": "scatterternary"
           }
          ],
          "surface": [
           {
            "colorbar": {
             "outlinewidth": 0,
             "ticks": ""
            },
            "colorscale": [
             [
              0,
              "#0d0887"
             ],
             [
              0.1111111111111111,
              "#46039f"
             ],
             [
              0.2222222222222222,
              "#7201a8"
             ],
             [
              0.3333333333333333,
              "#9c179e"
             ],
             [
              0.4444444444444444,
              "#bd3786"
             ],
             [
              0.5555555555555556,
              "#d8576b"
             ],
             [
              0.6666666666666666,
              "#ed7953"
             ],
             [
              0.7777777777777778,
              "#fb9f3a"
             ],
             [
              0.8888888888888888,
              "#fdca26"
             ],
             [
              1,
              "#f0f921"
             ]
            ],
            "type": "surface"
           }
          ],
          "table": [
           {
            "cells": {
             "fill": {
              "color": "#EBF0F8"
             },
             "line": {
              "color": "white"
             }
            },
            "header": {
             "fill": {
              "color": "#C8D4E3"
             },
             "line": {
              "color": "white"
             }
            },
            "type": "table"
           }
          ]
         },
         "layout": {
          "annotationdefaults": {
           "arrowcolor": "#2a3f5f",
           "arrowhead": 0,
           "arrowwidth": 1
          },
          "autotypenumbers": "strict",
          "coloraxis": {
           "colorbar": {
            "outlinewidth": 0,
            "ticks": ""
           }
          },
          "colorscale": {
           "diverging": [
            [
             0,
             "#8e0152"
            ],
            [
             0.1,
             "#c51b7d"
            ],
            [
             0.2,
             "#de77ae"
            ],
            [
             0.3,
             "#f1b6da"
            ],
            [
             0.4,
             "#fde0ef"
            ],
            [
             0.5,
             "#f7f7f7"
            ],
            [
             0.6,
             "#e6f5d0"
            ],
            [
             0.7,
             "#b8e186"
            ],
            [
             0.8,
             "#7fbc41"
            ],
            [
             0.9,
             "#4d9221"
            ],
            [
             1,
             "#276419"
            ]
           ],
           "sequential": [
            [
             0,
             "#0d0887"
            ],
            [
             0.1111111111111111,
             "#46039f"
            ],
            [
             0.2222222222222222,
             "#7201a8"
            ],
            [
             0.3333333333333333,
             "#9c179e"
            ],
            [
             0.4444444444444444,
             "#bd3786"
            ],
            [
             0.5555555555555556,
             "#d8576b"
            ],
            [
             0.6666666666666666,
             "#ed7953"
            ],
            [
             0.7777777777777778,
             "#fb9f3a"
            ],
            [
             0.8888888888888888,
             "#fdca26"
            ],
            [
             1,
             "#f0f921"
            ]
           ],
           "sequentialminus": [
            [
             0,
             "#0d0887"
            ],
            [
             0.1111111111111111,
             "#46039f"
            ],
            [
             0.2222222222222222,
             "#7201a8"
            ],
            [
             0.3333333333333333,
             "#9c179e"
            ],
            [
             0.4444444444444444,
             "#bd3786"
            ],
            [
             0.5555555555555556,
             "#d8576b"
            ],
            [
             0.6666666666666666,
             "#ed7953"
            ],
            [
             0.7777777777777778,
             "#fb9f3a"
            ],
            [
             0.8888888888888888,
             "#fdca26"
            ],
            [
             1,
             "#f0f921"
            ]
           ]
          },
          "colorway": [
           "#636efa",
           "#EF553B",
           "#00cc96",
           "#ab63fa",
           "#FFA15A",
           "#19d3f3",
           "#FF6692",
           "#B6E880",
           "#FF97FF",
           "#FECB52"
          ],
          "font": {
           "color": "#2a3f5f"
          },
          "geo": {
           "bgcolor": "white",
           "lakecolor": "white",
           "landcolor": "#E5ECF6",
           "showlakes": true,
           "showland": true,
           "subunitcolor": "white"
          },
          "hoverlabel": {
           "align": "left"
          },
          "hovermode": "closest",
          "mapbox": {
           "style": "light"
          },
          "paper_bgcolor": "white",
          "plot_bgcolor": "#E5ECF6",
          "polar": {
           "angularaxis": {
            "gridcolor": "white",
            "linecolor": "white",
            "ticks": ""
           },
           "bgcolor": "#E5ECF6",
           "radialaxis": {
            "gridcolor": "white",
            "linecolor": "white",
            "ticks": ""
           }
          },
          "scene": {
           "xaxis": {
            "backgroundcolor": "#E5ECF6",
            "gridcolor": "white",
            "gridwidth": 2,
            "linecolor": "white",
            "showbackground": true,
            "ticks": "",
            "zerolinecolor": "white"
           },
           "yaxis": {
            "backgroundcolor": "#E5ECF6",
            "gridcolor": "white",
            "gridwidth": 2,
            "linecolor": "white",
            "showbackground": true,
            "ticks": "",
            "zerolinecolor": "white"
           },
           "zaxis": {
            "backgroundcolor": "#E5ECF6",
            "gridcolor": "white",
            "gridwidth": 2,
            "linecolor": "white",
            "showbackground": true,
            "ticks": "",
            "zerolinecolor": "white"
           }
          },
          "shapedefaults": {
           "line": {
            "color": "#2a3f5f"
           }
          },
          "ternary": {
           "aaxis": {
            "gridcolor": "white",
            "linecolor": "white",
            "ticks": ""
           },
           "baxis": {
            "gridcolor": "white",
            "linecolor": "white",
            "ticks": ""
           },
           "bgcolor": "#E5ECF6",
           "caxis": {
            "gridcolor": "white",
            "linecolor": "white",
            "ticks": ""
           }
          },
          "title": {
           "x": 0.05
          },
          "xaxis": {
           "automargin": true,
           "gridcolor": "white",
           "linecolor": "white",
           "ticks": "",
           "title": {
            "standoff": 15
           },
           "zerolinecolor": "white",
           "zerolinewidth": 2
          },
          "yaxis": {
           "automargin": true,
           "gridcolor": "white",
           "linecolor": "white",
           "ticks": "",
           "title": {
            "standoff": 15
           },
           "zerolinecolor": "white",
           "zerolinewidth": 2
          }
         }
        },
        "title": {
         "text": "Elbow Plot For Optimal K Value",
         "x": 0.5,
         "xanchor": "center"
        },
        "xaxis": {
         "anchor": "y",
         "domain": [
          0,
          1
         ],
         "title": {
          "text": "k"
         }
        },
        "yaxis": {
         "anchor": "x",
         "domain": [
          0,
          1
         ],
         "title": {
          "text": "value"
         }
        }
       }
      },
      "text/html": [
       "<div>                            <div id=\"4886778f-8ef0-410a-945d-e10fccf3be64\" class=\"plotly-graph-div\" style=\"height:525px; width:100%;\"></div>            <script type=\"text/javascript\">                require([\"plotly\"], function(Plotly) {                    window.PLOTLYENV=window.PLOTLYENV || {};                                    if (document.getElementById(\"4886778f-8ef0-410a-945d-e10fccf3be64\")) {                    Plotly.newPlot(                        \"4886778f-8ef0-410a-945d-e10fccf3be64\",                        [{\"hovertemplate\":\"variable=Scaled Inertia<br>k=%{x}<br>value=%{y}<extra></extra>\",\"legendgroup\":\"Scaled Inertia\",\"line\":{\"color\":\"#636efa\",\"dash\":\"solid\"},\"marker\":{\"symbol\":\"circle\"},\"mode\":\"markers+lines\",\"name\":\"Scaled Inertia\",\"orientation\":\"v\",\"showlegend\":true,\"x\":[2,3,4,5,6,7,8,9,10,11,12,13,14,15,16,17,18,19],\"xaxis\":\"x\",\"y\":[0.568055046405617,0.4286466960624062,0.3224323391133719,0.26860569277777785,0.22648342743983105,0.209169430713741,0.21337681325998506,0.22350437051247232,0.23111996877967592,0.2415883556538702,0.25563059584827696,0.2713384228258746,0.2886237500196892,0.30681506703893424,0.32500478752195977,0.34337310180549346,0.36191689617857553,0.3811973383546499],\"yaxis\":\"y\",\"type\":\"scatter\"}],                        {\"template\":{\"data\":{\"bar\":[{\"error_x\":{\"color\":\"#2a3f5f\"},\"error_y\":{\"color\":\"#2a3f5f\"},\"marker\":{\"line\":{\"color\":\"#E5ECF6\",\"width\":0.5},\"pattern\":{\"fillmode\":\"overlay\",\"size\":10,\"solidity\":0.2}},\"type\":\"bar\"}],\"barpolar\":[{\"marker\":{\"line\":{\"color\":\"#E5ECF6\",\"width\":0.5},\"pattern\":{\"fillmode\":\"overlay\",\"size\":10,\"solidity\":0.2}},\"type\":\"barpolar\"}],\"carpet\":[{\"aaxis\":{\"endlinecolor\":\"#2a3f5f\",\"gridcolor\":\"white\",\"linecolor\":\"white\",\"minorgridcolor\":\"white\",\"startlinecolor\":\"#2a3f5f\"},\"baxis\":{\"endlinecolor\":\"#2a3f5f\",\"gridcolor\":\"white\",\"linecolor\":\"white\",\"minorgridcolor\":\"white\",\"startlinecolor\":\"#2a3f5f\"},\"type\":\"carpet\"}],\"choropleth\":[{\"colorbar\":{\"outlinewidth\":0,\"ticks\":\"\"},\"type\":\"choropleth\"}],\"contour\":[{\"colorbar\":{\"outlinewidth\":0,\"ticks\":\"\"},\"colorscale\":[[0.0,\"#0d0887\"],[0.1111111111111111,\"#46039f\"],[0.2222222222222222,\"#7201a8\"],[0.3333333333333333,\"#9c179e\"],[0.4444444444444444,\"#bd3786\"],[0.5555555555555556,\"#d8576b\"],[0.6666666666666666,\"#ed7953\"],[0.7777777777777778,\"#fb9f3a\"],[0.8888888888888888,\"#fdca26\"],[1.0,\"#f0f921\"]],\"type\":\"contour\"}],\"contourcarpet\":[{\"colorbar\":{\"outlinewidth\":0,\"ticks\":\"\"},\"type\":\"contourcarpet\"}],\"heatmap\":[{\"colorbar\":{\"outlinewidth\":0,\"ticks\":\"\"},\"colorscale\":[[0.0,\"#0d0887\"],[0.1111111111111111,\"#46039f\"],[0.2222222222222222,\"#7201a8\"],[0.3333333333333333,\"#9c179e\"],[0.4444444444444444,\"#bd3786\"],[0.5555555555555556,\"#d8576b\"],[0.6666666666666666,\"#ed7953\"],[0.7777777777777778,\"#fb9f3a\"],[0.8888888888888888,\"#fdca26\"],[1.0,\"#f0f921\"]],\"type\":\"heatmap\"}],\"heatmapgl\":[{\"colorbar\":{\"outlinewidth\":0,\"ticks\":\"\"},\"colorscale\":[[0.0,\"#0d0887\"],[0.1111111111111111,\"#46039f\"],[0.2222222222222222,\"#7201a8\"],[0.3333333333333333,\"#9c179e\"],[0.4444444444444444,\"#bd3786\"],[0.5555555555555556,\"#d8576b\"],[0.6666666666666666,\"#ed7953\"],[0.7777777777777778,\"#fb9f3a\"],[0.8888888888888888,\"#fdca26\"],[1.0,\"#f0f921\"]],\"type\":\"heatmapgl\"}],\"histogram\":[{\"marker\":{\"pattern\":{\"fillmode\":\"overlay\",\"size\":10,\"solidity\":0.2}},\"type\":\"histogram\"}],\"histogram2d\":[{\"colorbar\":{\"outlinewidth\":0,\"ticks\":\"\"},\"colorscale\":[[0.0,\"#0d0887\"],[0.1111111111111111,\"#46039f\"],[0.2222222222222222,\"#7201a8\"],[0.3333333333333333,\"#9c179e\"],[0.4444444444444444,\"#bd3786\"],[0.5555555555555556,\"#d8576b\"],[0.6666666666666666,\"#ed7953\"],[0.7777777777777778,\"#fb9f3a\"],[0.8888888888888888,\"#fdca26\"],[1.0,\"#f0f921\"]],\"type\":\"histogram2d\"}],\"histogram2dcontour\":[{\"colorbar\":{\"outlinewidth\":0,\"ticks\":\"\"},\"colorscale\":[[0.0,\"#0d0887\"],[0.1111111111111111,\"#46039f\"],[0.2222222222222222,\"#7201a8\"],[0.3333333333333333,\"#9c179e\"],[0.4444444444444444,\"#bd3786\"],[0.5555555555555556,\"#d8576b\"],[0.6666666666666666,\"#ed7953\"],[0.7777777777777778,\"#fb9f3a\"],[0.8888888888888888,\"#fdca26\"],[1.0,\"#f0f921\"]],\"type\":\"histogram2dcontour\"}],\"mesh3d\":[{\"colorbar\":{\"outlinewidth\":0,\"ticks\":\"\"},\"type\":\"mesh3d\"}],\"parcoords\":[{\"line\":{\"colorbar\":{\"outlinewidth\":0,\"ticks\":\"\"}},\"type\":\"parcoords\"}],\"pie\":[{\"automargin\":true,\"type\":\"pie\"}],\"scatter\":[{\"marker\":{\"colorbar\":{\"outlinewidth\":0,\"ticks\":\"\"}},\"type\":\"scatter\"}],\"scatter3d\":[{\"line\":{\"colorbar\":{\"outlinewidth\":0,\"ticks\":\"\"}},\"marker\":{\"colorbar\":{\"outlinewidth\":0,\"ticks\":\"\"}},\"type\":\"scatter3d\"}],\"scattercarpet\":[{\"marker\":{\"colorbar\":{\"outlinewidth\":0,\"ticks\":\"\"}},\"type\":\"scattercarpet\"}],\"scattergeo\":[{\"marker\":{\"colorbar\":{\"outlinewidth\":0,\"ticks\":\"\"}},\"type\":\"scattergeo\"}],\"scattergl\":[{\"marker\":{\"colorbar\":{\"outlinewidth\":0,\"ticks\":\"\"}},\"type\":\"scattergl\"}],\"scattermapbox\":[{\"marker\":{\"colorbar\":{\"outlinewidth\":0,\"ticks\":\"\"}},\"type\":\"scattermapbox\"}],\"scatterpolar\":[{\"marker\":{\"colorbar\":{\"outlinewidth\":0,\"ticks\":\"\"}},\"type\":\"scatterpolar\"}],\"scatterpolargl\":[{\"marker\":{\"colorbar\":{\"outlinewidth\":0,\"ticks\":\"\"}},\"type\":\"scatterpolargl\"}],\"scatterternary\":[{\"marker\":{\"colorbar\":{\"outlinewidth\":0,\"ticks\":\"\"}},\"type\":\"scatterternary\"}],\"surface\":[{\"colorbar\":{\"outlinewidth\":0,\"ticks\":\"\"},\"colorscale\":[[0.0,\"#0d0887\"],[0.1111111111111111,\"#46039f\"],[0.2222222222222222,\"#7201a8\"],[0.3333333333333333,\"#9c179e\"],[0.4444444444444444,\"#bd3786\"],[0.5555555555555556,\"#d8576b\"],[0.6666666666666666,\"#ed7953\"],[0.7777777777777778,\"#fb9f3a\"],[0.8888888888888888,\"#fdca26\"],[1.0,\"#f0f921\"]],\"type\":\"surface\"}],\"table\":[{\"cells\":{\"fill\":{\"color\":\"#EBF0F8\"},\"line\":{\"color\":\"white\"}},\"header\":{\"fill\":{\"color\":\"#C8D4E3\"},\"line\":{\"color\":\"white\"}},\"type\":\"table\"}]},\"layout\":{\"annotationdefaults\":{\"arrowcolor\":\"#2a3f5f\",\"arrowhead\":0,\"arrowwidth\":1},\"autotypenumbers\":\"strict\",\"coloraxis\":{\"colorbar\":{\"outlinewidth\":0,\"ticks\":\"\"}},\"colorscale\":{\"diverging\":[[0,\"#8e0152\"],[0.1,\"#c51b7d\"],[0.2,\"#de77ae\"],[0.3,\"#f1b6da\"],[0.4,\"#fde0ef\"],[0.5,\"#f7f7f7\"],[0.6,\"#e6f5d0\"],[0.7,\"#b8e186\"],[0.8,\"#7fbc41\"],[0.9,\"#4d9221\"],[1,\"#276419\"]],\"sequential\":[[0.0,\"#0d0887\"],[0.1111111111111111,\"#46039f\"],[0.2222222222222222,\"#7201a8\"],[0.3333333333333333,\"#9c179e\"],[0.4444444444444444,\"#bd3786\"],[0.5555555555555556,\"#d8576b\"],[0.6666666666666666,\"#ed7953\"],[0.7777777777777778,\"#fb9f3a\"],[0.8888888888888888,\"#fdca26\"],[1.0,\"#f0f921\"]],\"sequentialminus\":[[0.0,\"#0d0887\"],[0.1111111111111111,\"#46039f\"],[0.2222222222222222,\"#7201a8\"],[0.3333333333333333,\"#9c179e\"],[0.4444444444444444,\"#bd3786\"],[0.5555555555555556,\"#d8576b\"],[0.6666666666666666,\"#ed7953\"],[0.7777777777777778,\"#fb9f3a\"],[0.8888888888888888,\"#fdca26\"],[1.0,\"#f0f921\"]]},\"colorway\":[\"#636efa\",\"#EF553B\",\"#00cc96\",\"#ab63fa\",\"#FFA15A\",\"#19d3f3\",\"#FF6692\",\"#B6E880\",\"#FF97FF\",\"#FECB52\"],\"font\":{\"color\":\"#2a3f5f\"},\"geo\":{\"bgcolor\":\"white\",\"lakecolor\":\"white\",\"landcolor\":\"#E5ECF6\",\"showlakes\":true,\"showland\":true,\"subunitcolor\":\"white\"},\"hoverlabel\":{\"align\":\"left\"},\"hovermode\":\"closest\",\"mapbox\":{\"style\":\"light\"},\"paper_bgcolor\":\"white\",\"plot_bgcolor\":\"#E5ECF6\",\"polar\":{\"angularaxis\":{\"gridcolor\":\"white\",\"linecolor\":\"white\",\"ticks\":\"\"},\"bgcolor\":\"#E5ECF6\",\"radialaxis\":{\"gridcolor\":\"white\",\"linecolor\":\"white\",\"ticks\":\"\"}},\"scene\":{\"xaxis\":{\"backgroundcolor\":\"#E5ECF6\",\"gridcolor\":\"white\",\"gridwidth\":2,\"linecolor\":\"white\",\"showbackground\":true,\"ticks\":\"\",\"zerolinecolor\":\"white\"},\"yaxis\":{\"backgroundcolor\":\"#E5ECF6\",\"gridcolor\":\"white\",\"gridwidth\":2,\"linecolor\":\"white\",\"showbackground\":true,\"ticks\":\"\",\"zerolinecolor\":\"white\"},\"zaxis\":{\"backgroundcolor\":\"#E5ECF6\",\"gridcolor\":\"white\",\"gridwidth\":2,\"linecolor\":\"white\",\"showbackground\":true,\"ticks\":\"\",\"zerolinecolor\":\"white\"}},\"shapedefaults\":{\"line\":{\"color\":\"#2a3f5f\"}},\"ternary\":{\"aaxis\":{\"gridcolor\":\"white\",\"linecolor\":\"white\",\"ticks\":\"\"},\"baxis\":{\"gridcolor\":\"white\",\"linecolor\":\"white\",\"ticks\":\"\"},\"bgcolor\":\"#E5ECF6\",\"caxis\":{\"gridcolor\":\"white\",\"linecolor\":\"white\",\"ticks\":\"\"}},\"title\":{\"x\":0.05},\"xaxis\":{\"automargin\":true,\"gridcolor\":\"white\",\"linecolor\":\"white\",\"ticks\":\"\",\"title\":{\"standoff\":15},\"zerolinecolor\":\"white\",\"zerolinewidth\":2},\"yaxis\":{\"automargin\":true,\"gridcolor\":\"white\",\"linecolor\":\"white\",\"ticks\":\"\",\"title\":{\"standoff\":15},\"zerolinecolor\":\"white\",\"zerolinewidth\":2}}},\"xaxis\":{\"anchor\":\"y\",\"domain\":[0.0,1.0],\"title\":{\"text\":\"k\"}},\"yaxis\":{\"anchor\":\"x\",\"domain\":[0.0,1.0],\"title\":{\"text\":\"value\"}},\"legend\":{\"title\":{\"text\":\"variable\"},\"tracegroupgap\":0},\"title\":{\"text\":\"Elbow Plot For Optimal K Value\",\"x\":0.5,\"xanchor\":\"center\"},\"showlegend\":false},                        {\"responsive\": true}                    ).then(function(){\n",
       "                            \n",
       "var gd = document.getElementById('4886778f-8ef0-410a-945d-e10fccf3be64');\n",
       "var x = new MutationObserver(function (mutations, observer) {{\n",
       "        var display = window.getComputedStyle(gd).display;\n",
       "        if (!display || display === 'none') {{\n",
       "            console.log([gd, 'removed!']);\n",
       "            Plotly.purge(gd);\n",
       "            observer.disconnect();\n",
       "        }}\n",
       "}});\n",
       "\n",
       "// Listen for the removal of the full notebook cells\n",
       "var notebookContainer = gd.closest('#notebook-container');\n",
       "if (notebookContainer) {{\n",
       "    x.observe(notebookContainer, {childList: true});\n",
       "}}\n",
       "\n",
       "// Listen for the clearing of the current output cell\n",
       "var outputEl = gd.closest('.output');\n",
       "if (outputEl) {{\n",
       "    x.observe(outputEl, {childList: true});\n",
       "}}\n",
       "\n",
       "                        })                };                });            </script>        </div>"
      ]
     },
     "metadata": {},
     "output_type": "display_data"
    }
   ],
   "source": [
    "fig = px.line(data_frame=results, \n",
    "        title = 'Elbow plot for optimal k value'.title(), \n",
    "        markers=True)\n",
    "fig.update_layout(\n",
    "    showlegend=False,\n",
    "    title={\n",
    "        'x':0.5,\n",
    "        'xanchor': 'center' \n",
    "    }\n",
    "                 );\n",
    "fig.show();\n"
   ]
  },
  {
   "cell_type": "code",
   "execution_count": 40,
   "id": "85f3ba1c",
   "metadata": {},
   "outputs": [
    {
     "data": {
      "text/plain": [
       "KMeans(init='random', max_iter=400, n_clusters=7, n_init=25, random_state=0)"
      ]
     },
     "execution_count": 40,
     "metadata": {},
     "output_type": "execute_result"
    }
   ],
   "source": [
    "kmeans = KMeans(\n",
    "   init=\"random\",\n",
    "   n_clusters=best_k,\n",
    "   n_init=25,\n",
    "   max_iter=400,\n",
    "   random_state=0\n",
    ")\n",
    "kmeans.fit(scaled_features)\n",
    "\n"
   ]
  },
  {
   "cell_type": "code",
   "execution_count": 41,
   "id": "0160667b",
   "metadata": {},
   "outputs": [
    {
     "name": "stdout",
     "output_type": "stream",
     "text": [
      "     Rape          K&A           DD          AoW          AoM         DV  \\\n",
      "1  2001.0  1958.000000  2879.000000  2211.000000  2870.000000  2575.0000   \n",
      "2  2001.0  1950.000000  1416.500000   492.500000  4970.500000   403.5000   \n",
      "3  2001.0  1086.500000   688.000000   364.000000  3183.500000  1695.5000   \n",
      "4  2001.0   888.000000   518.000000   859.000000   562.000000    21.0000   \n",
      "5  2001.0   554.727273   463.818182   168.545455  1136.818182   219.0000   \n",
      "6  2001.0    52.000000     1.000000     0.000000    52.000000     0.0000   \n",
      "7  2001.0    38.812500    60.750000     6.312500    82.812500    28.3125   \n",
      "\n",
      "            WT      Extra  \n",
      "1  7365.000000   0.000000  \n",
      "2  4047.000000   0.500000  \n",
      "3  5940.500000   4.000000  \n",
      "4  1558.000000  83.000000  \n",
      "5  1739.636364   1.727273  \n",
      "6    16.000000   3.000000  \n",
      "7    61.375000   0.000000  \n",
      "{1: ['Uttar Pradesh'], 2: ['Rajasthan', 'Madhya Pradesh'], 3: ['Andhra Pradesh', 'Maharashtra'], 4: ['Bihar'], 5: ['Chhattisgarh', 'Punjab', 'Jharkhand', 'Karnataka', 'Assam', 'Kerala', 'Odisha', 'Gujarat', 'West Bengal', 'Tamil Nadu', 'Haryana'], 6: ['Mizoram'], 7: ['Jammu & Kashmir', 'Himachal Pradesh', 'Uttarakhand', 'D & N Haveli', 'Lakshadweep', 'Daman & Diu', 'Goa', 'Nagaland', 'Sikkim', 'Chandigarh', 'Puducherry', 'Arunachal Pradesh', 'Manipur', 'Tripura', 'A & N Islands', 'Meghalaya']}\n"
     ]
    }
   ],
   "source": [
    "\n",
    "# Assuming `dt.State`, `kmeans.labels_`, and `arr` are correctly defined.\n",
    "\n",
    "# Ensure `arr` has the correct number of columns (8 in this case)\n",
    "if arr.shape[1] != 8:\n",
    "    raise ValueError(f\"Expected 8 columns in `arr`, but got {arr.shape[9]}.\")\n",
    "\n",
    "# Concatenate columns into a numpy array\n",
    "con_cat = np.c_[dt.State, kmeans.labels_, arr]  # Add columns to numpy array\n",
    "\n",
    "# Create DataFrame with correct column names\n",
    "columns = ['State', 'Label', 'Rape', 'K&A', 'DD', 'AoW', 'AoM', 'DV', 'WT', 'Extra']  # Updated column list to match arr\n",
    "df_ = pd.DataFrame(con_cat, columns=columns)\n",
    "\n",
    "# Ensure proper numeric conversion for grouping\n",
    "numeric_cols = ['Label', 'Rape', 'K&A', 'DD', 'AoW', 'AoM', 'DV', 'WT', 'Extra']\n",
    "new_df = df_[numeric_cols].apply(pd.to_numeric)\n",
    "\n",
    "# Group by 'Label' and calculate the mean\n",
    "new_df = new_df.groupby('Label').mean().sort_values(\n",
    "    ['Rape', 'K&A', 'DD', 'AoW', 'AoM', 'DV', 'WT', 'Extra'], ascending=False\n",
    ")\n",
    "\n",
    "# Get the order of indices\n",
    "ord_ind = new_df.index\n",
    "\n",
    "# Reindex to match the best_k clusters\n",
    "best_k = len(ord_ind)  # Assuming `best_k` is defined elsewhere\n",
    "new_df = new_df.set_index(pd.Index(range(1, best_k + 1)))\n",
    "\n",
    "# Create Clusters dictionary\n",
    "Clusters = {}\n",
    "for i, j in zip(list(ord_ind), range(1, best_k + 1)):\n",
    "    Clusters[j] = list(set(df_.State[df_['Label'] == i]))\n",
    "\n",
    "# Print or use the final DataFrame and Clusters\n",
    "print(new_df)\n",
    "print(Clusters)\n"
   ]
  },
  {
   "cell_type": "code",
   "execution_count": 42,
   "id": "d2589115",
   "metadata": {},
   "outputs": [
    {
     "data": {
      "text/markdown": [
       "### States grouped by no. of Crimes 2001 \n",
       " \n",
       "\n",
       "\n",
       "We created a total of 7 Clusters and put them in descending order of number of crimes.\n",
       "\n",
       "|    Highest to Lowest | 1             | 2              | 3              | 4     | 5            | 6       | 7                 |\n",
       "|:---------------------:|:--------------:|:---------------:|:---------------:|:------:|:-------------:|:--------:|:------------------:|\n",
       "|                    0 | Uttar Pradesh | Rajasthan      | Andhra Pradesh | Bihar | Chhattisgarh | Mizoram | Jammu & Kashmir   |\n",
       "|                    1 |             | Madhya Pradesh | Maharashtra    |     | Punjab       |       | Himachal Pradesh  |\n",
       "|                    2 |             |              |              |     | Jharkhand    |       | Uttarakhand       |\n",
       "|                    3 |             |              |              |     | Karnataka    |       | D & N Haveli      |\n",
       "|                    4 |             |              |              |     | Assam        |       | Lakshadweep       |\n",
       "|                    5 |             |              |              |     | Kerala       |       | Daman & Diu       |\n",
       "|                    6 |             |              |              |     | Odisha       |       | Goa               |\n",
       "|                    7 |             |              |              |     | Gujarat      |       | Nagaland          |\n",
       "|                    8 |             |              |              |     | West Bengal  |       | Sikkim            |\n",
       "|                    9 |             |              |              |     | Tamil Nadu   |       | Chandigarh        |\n",
       "|                   10 |             |              |              |     | Haryana      |       | Puducherry        |\n",
       "|                   11 |             |              |              |     |            |       | Arunachal Pradesh |\n",
       "|                   12 |             |              |              |     |            |       | Manipur           |\n",
       "|                   13 |             |              |              |     |            |       | Tripura           |\n",
       "|                   14 |             |              |              |     |            |       | A & N Islands     |\n",
       "|                   15 |             |              |              |     |            |       | Meghalaya         | \n",
       " \n",
       "### Average no. of crimes\n",
       " \n",
       "The average number of crimes for each cluster is given in the below table.\n",
       " \n",
       " \n",
       " <span style='color:red'> \n",
       " \n",
       "Note: The clusters are given in descending order.</span> \n",
       " \n",
       " \n",
       "|    |   Rape |       K&A |       DD |       AoW |       AoM |        DV |       WT |    Extra |\n",
       "|:---:|:-------:|:----------:|:---------:|:----------:|:----------:|:----------:|:---------:|:---------:|\n",
       "|  1 |   2001 | 1958      | 2879     | 2211      | 2870      | 2575      | 7365     |  0       |\n",
       "|  2 |   2001 | 1950      | 1416.5   |  492.5    | 4970.5    |  403.5    | 4047     |  0.5     |\n",
       "|  3 |   2001 | 1086.5    |  688     |  364      | 3183.5    | 1695.5    | 5940.5   |  4       |\n",
       "|  4 |   2001 |  888      |  518     |  859      |  562      |   21      | 1558     | 83       |\n",
       "|  5 |   2001 |  554.727  |  463.818 |  168.545  | 1136.82   |  219      | 1739.64  |  1.72727 |\n",
       "|  6 |   2001 |   52      |    1     |    0      |   52      |    0      |   16     |  3       |\n",
       "|  7 |   2001 |   38.8125 |   60.75  |    6.3125 |   82.8125 |   28.3125 |   61.375 |  0       |"
      ]
     },
     "metadata": {},
     "output_type": "display_data"
    }
   ],
   "source": [
    "df = pd.DataFrame(dict([(k, pd.Series(v)) for k, v in Clusters.items()]))\n",
    "df.index.name = \" Highest to Lowest\"\n",
    "text1 = f\"\\n\\nWe created a total of {best_k} Clusters and put them in descending order of number of crimes.\\n\\n\"\n",
    "text2 = f\"The average number of crimes for each cluster is given in the below table.\\n \\n \\n <span style='color:red'> \\n \\nNote: The clusters are given in descending order.</span> \\n \\n \\n\"\n",
    "\n",
    "display_markdown(f\"### States grouped by no. of Crimes {year} \\n \\n\"  + text1\n",
    "                 + df.to_markdown().replace(\"nan\", ' ').replace(\"-|\", \"-:|\").replace('|-', '|:-')\n",
    "                 + \" \\n \\n### Average no. of crimes\\n \\n\" + text2\n",
    "                 + new_df.to_markdown().replace(\"-|\", \"-:|\").replace('|-', '|:-')\n",
    "                 ,raw=True)"
   ]
  },
  {
   "cell_type": "code",
   "execution_count": null,
   "id": "9d755390",
   "metadata": {},
   "outputs": [],
   "source": []
  },
  {
   "cell_type": "code",
   "execution_count": null,
   "id": "79c35d8f",
   "metadata": {},
   "outputs": [],
   "source": []
  }
 ],
 "metadata": {
  "kernelspec": {
   "display_name": "Python 3 (ipykernel)",
   "language": "python",
   "name": "python3"
  },
  "language_info": {
   "codemirror_mode": {
    "name": "ipython",
    "version": 3
   },
   "file_extension": ".py",
   "mimetype": "text/x-python",
   "name": "python",
   "nbconvert_exporter": "python",
   "pygments_lexer": "ipython3",
   "version": "3.11.5"
  }
 },
 "nbformat": 4,
 "nbformat_minor": 5
}
